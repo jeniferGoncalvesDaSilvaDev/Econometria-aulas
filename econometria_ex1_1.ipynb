{
  "nbformat": 4,
  "nbformat_minor": 0,
  "metadata": {
    "colab": {
      "provenance": [],
      "mount_file_id": "https://github.com/jeniferGoncalvesDaSilvaDev/Econometria-aulas/blob/main/econometria_ex1_1.ipynb",
      "authorship_tag": "ABX9TyP0CBH2M66TuD7wuJ6eQmcB",
      "include_colab_link": true
    },
    "kernelspec": {
      "name": "python3",
      "display_name": "Python 3"
    },
    "language_info": {
      "name": "python"
    }
  },
  "cells": [
    {
      "cell_type": "markdown",
      "metadata": {
        "id": "view-in-github",
        "colab_type": "text"
      },
      "source": [
        "<a href=\"https://colab.research.google.com/github/jeniferGoncalvesDaSilvaDev/Econometria-aulas/blob/main/econometria_ex1_1.ipynb\" target=\"_parent\"><img src=\"https://colab.research.google.com/assets/colab-badge.svg\" alt=\"Open In Colab\"/></a>"
      ]
    },
    {
      "cell_type": "code",
      "execution_count": 17,
      "metadata": {
        "id": "CQVdPitBslE_"
      },
      "outputs": [],
      "source": [
        "import pandas as pd\n",
        "import matplotlib.pyplot as plt\n",
        "import statistics as st"
      ]
    },
    {
      "cell_type": "code",
      "source": [
        "ds = pd.read_excel('/content/drive/MyDrive/Econometria /TrainExer11.xls')\n",
        "print(ds)"
      ],
      "metadata": {
        "colab": {
          "base_uri": "https://localhost:8080/"
        },
        "id": "ecb3FN96tX7T",
        "outputId": "2bdb3f54-f913-45df-9467-89da22f8fb41"
      },
      "execution_count": 18,
      "outputs": [
        {
          "output_type": "stream",
          "name": "stdout",
          "text": [
            "    Observation  Age  Expenditures\n",
            "0             1   49            95\n",
            "1             2   15           104\n",
            "2             3   43            91\n",
            "3             4   45            98\n",
            "4             5   40            94\n",
            "5             6   35           107\n",
            "6             7   42            96\n",
            "7             8   38           108\n",
            "8             9   46            98\n",
            "9            10   30           108\n",
            "10           11   52           101\n",
            "11           12   55            89\n",
            "12           13   42            96\n",
            "13           14   25           105\n",
            "14           15   35           107\n",
            "15           16   35           106\n",
            "16           17   35           105\n",
            "17           18   27           105\n",
            "18           19   48            97\n",
            "19           20   37           109\n",
            "20           21   45            94\n",
            "21           22   19           103\n",
            "22           23   57           103\n",
            "23           24   55            94\n",
            "24           25   34           108\n",
            "25           26   39           108\n"
          ]
        }
      ]
    },
    {
      "cell_type": "code",
      "source": [
        "idade = ds['Age']\n",
        "despesas = ds['Expenditures']\n",
        "print(idade)"
      ],
      "metadata": {
        "colab": {
          "base_uri": "https://localhost:8080/"
        },
        "id": "zNT3O7ovt71m",
        "outputId": "6341ee3e-549d-4309-be1d-1e4cfb4b344b"
      },
      "execution_count": 19,
      "outputs": [
        {
          "output_type": "stream",
          "name": "stdout",
          "text": [
            "0     49\n",
            "1     15\n",
            "2     43\n",
            "3     45\n",
            "4     40\n",
            "5     35\n",
            "6     42\n",
            "7     38\n",
            "8     46\n",
            "9     30\n",
            "10    52\n",
            "11    55\n",
            "12    42\n",
            "13    25\n",
            "14    35\n",
            "15    35\n",
            "16    35\n",
            "17    27\n",
            "18    48\n",
            "19    37\n",
            "20    45\n",
            "21    19\n",
            "22    57\n",
            "23    55\n",
            "24    34\n",
            "25    39\n",
            "Name: Age, dtype: int64\n"
          ]
        }
      ]
    },
    {
      "cell_type": "code",
      "source": [
        "print(despesas)"
      ],
      "metadata": {
        "colab": {
          "base_uri": "https://localhost:8080/"
        },
        "id": "j2LC3pSauLTu",
        "outputId": "6ac58e4c-ccc5-4426-eacd-786b0aee1f2e"
      },
      "execution_count": 20,
      "outputs": [
        {
          "output_type": "stream",
          "name": "stdout",
          "text": [
            "0      95\n",
            "1     104\n",
            "2      91\n",
            "3      98\n",
            "4      94\n",
            "5     107\n",
            "6      96\n",
            "7     108\n",
            "8      98\n",
            "9     108\n",
            "10    101\n",
            "11     89\n",
            "12     96\n",
            "13    105\n",
            "14    107\n",
            "15    106\n",
            "16    105\n",
            "17    105\n",
            "18     97\n",
            "19    109\n",
            "20     94\n",
            "21    103\n",
            "22    103\n",
            "23     94\n",
            "24    108\n",
            "25    108\n",
            "Name: Expenditures, dtype: int64\n"
          ]
        }
      ]
    },
    {
      "cell_type": "code",
      "source": [
        "plt.hist(despesas,bins=4)"
      ],
      "metadata": {
        "colab": {
          "base_uri": "https://localhost:8080/",
          "height": 310
        },
        "id": "8LSuv_IAua98",
        "outputId": "b5de5253-e041-4858-c28c-954252a1d553"
      },
      "execution_count": 28,
      "outputs": [
        {
          "output_type": "execute_result",
          "data": {
            "text/plain": [
              "(array([ 2.,  9.,  3., 12.]),\n",
              " array([ 89.,  94.,  99., 104., 109.]),\n",
              " <BarContainer object of 4 artists>)"
            ]
          },
          "metadata": {},
          "execution_count": 28
        },
        {
          "output_type": "display_data",
          "data": {
            "text/plain": [
              "<Figure size 640x480 with 1 Axes>"
            ],
            "image/png": "[encoded data removed]"
          },
          "metadata": {}
        }
      ]
    },
    {
      "cell_type": "code",
      "source": [
        "plt.hist(idade,bins=4)"
      ],
      "metadata": {
        "colab": {
          "base_uri": "https://localhost:8080/",
          "height": 318
        },
        "id": "MQlzvm8ku-vL",
        "outputId": "b8db30d8-7290-488d-8fe4-a8c9ea0dc476"
      },
      "execution_count": 29,
      "outputs": [
        {
          "output_type": "execute_result",
          "data": {
            "text/plain": [
              "(array([ 3.,  7., 10.,  6.]),\n",
              " array([15. , 25.5, 36. , 46.5, 57. ]),\n",
              " <BarContainer object of 4 artists>)"
            ]
          },
          "metadata": {},
          "execution_count": 29
        },
        {
          "output_type": "display_data",
          "data": {
            "text/plain": [
              "<Figure size 640x480 with 1 Axes>"
            ],
            "image/png": "[encoded data removed]"
          },
          "metadata": {}
        }
      ]
    },
    {
      "cell_type": "code",
      "source": [
        "plt.scatter(despesas,idade)"
      ],
      "metadata": {
        "colab": {
          "base_uri": "https://localhost:8080/",
          "height": 295
        },
        "id": "bvmvr5jXvYSA",
        "outputId": "66e01281-e1f6-4e26-d19e-7aeb00227701"
      },
      "execution_count": 31,
      "outputs": [
        {
          "output_type": "execute_result",
          "data": {
            "text/plain": [
              "<matplotlib.collections.PathCollection at 0x78f6f58d7ee0>"
            ]
          },
          "metadata": {},
          "execution_count": 31
        },
        {
          "output_type": "display_data",
          "data": {
            "text/plain": [
              "<Figure size 640x480 with 1 Axes>"
            ],
            "image/png": "[encoded data removed]"
          },
          "metadata": {}
        }
      ]
    },
    {
      "cell_type": "markdown",
      "source": [
        "A conclusão é que pessoas mais jovens, tendem a gastar mais com despesas de viagens aérias(já que o dataset é as despesas de acordo com a idade de uma companhia aéria) do que pessoas mais velhas.\n",
        "Outra conclusão é que as despesas se concentram na maior parte entre 104.0 a 108.0 dólares de acordo com 20-39 anos, sendo que os passageiros se concentram na faixa de 39 a 50 anos"
      ],
      "metadata": {
        "id": "bKVYh455vsXB"
      }
    },
    {
      "cell_type": "code",
      "source": [
        "media_despesas=st.mean(despesas)\n",
        "print(round(media_despesas,2))"
      ],
      "metadata": {
        "id": "eBwLnSmDwasT",
        "outputId": "a0a61f48-5152-4fac-ed03-2e5142bd1081",
        "colab": {
          "base_uri": "https://localhost:8080/"
        }
      },
      "execution_count": null,
      "outputs": [
        {
          "output_type": "stream",
          "name": "stdout",
          "text": [
            "101.12\n"
          ]
        }
      ]
    },
    {
      "cell_type": "code",
      "source": [
        "despesas_maior_40 = ds['Expenditures'].loc[(ds['Expenditures'] > 0) & (ds['Age']>=40)]\n",
        "despesas_maior_40"
      ],
      "metadata": {
        "id": "Y15Q1iXFyXwa",
        "outputId": "b71088f0-51d3-4911-cb9b-60f4672f903c",
        "colab": {
          "base_uri": "https://localhost:8080/"
        }
      },
      "execution_count": 25,
      "outputs": [
        {
          "output_type": "execute_result",
          "data": {
            "text/plain": [
              "0      95\n",
              "2      91\n",
              "3      98\n",
              "4      94\n",
              "6      96\n",
              "8      98\n",
              "10    101\n",
              "11     89\n",
              "12     96\n",
              "18     97\n",
              "20     94\n",
              "22    103\n",
              "23     94\n",
              "Name: Expenditures, dtype: int64"
            ]
          },
          "metadata": {},
          "execution_count": 25
        }
      ]
    },
    {
      "cell_type": "code",
      "source": [
        "despesas_menor_40 = ds['Expenditures'].loc[(ds['Expenditures'] > 0) & (ds['Age']<40)]\n",
        "despesas_menor_40"
      ],
      "metadata": {
        "id": "2QxlBGRe1pC-",
        "outputId": "95445c3f-fa70-4a8d-9334-e30d064318a5",
        "colab": {
          "base_uri": "https://localhost:8080/"
        }
      },
      "execution_count": 26,
      "outputs": [
        {
          "output_type": "execute_result",
          "data": {
            "text/plain": [
              "1     104\n",
              "5     107\n",
              "7     108\n",
              "9     108\n",
              "13    105\n",
              "14    107\n",
              "15    106\n",
              "16    105\n",
              "17    105\n",
              "19    109\n",
              "21    103\n",
              "24    108\n",
              "25    108\n",
              "Name: Expenditures, dtype: int64"
            ]
          },
          "metadata": {},
          "execution_count": 26
        }
      ]
    },
    {
      "cell_type": "code",
      "source": [
        "def media_despesas():\n",
        "   menor_40 = st.mean(despesas_menor_40)\n",
        "   maior_40 = st.mean(despesas_maior_40)\n",
        "   print(round(menor_40,2))\n",
        "   print(round(maior_40,2))\n",
        "media_despesas()"
      ],
      "metadata": {
        "id": "IJJeT48P14y5",
        "outputId": "069ed9b4-6168-4afb-805f-4e44318812e9",
        "colab": {
          "base_uri": "https://localhost:8080/"
        }
      },
      "execution_count": 27,
      "outputs": [
        {
          "output_type": "stream",
          "name": "stdout",
          "text": [
            "106.38\n",
            "95.85\n"
          ]
        }
      ]
    }
  ]
}