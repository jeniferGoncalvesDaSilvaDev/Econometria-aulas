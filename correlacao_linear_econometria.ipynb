{
  "nbformat": 4,
  "nbformat_minor": 0,
  "metadata": {
    "colab": {
      "provenance": [],
      "authorship_tag": "ABX9TyMNGL3XAKT+G3p+ujtMndZw",
      "include_colab_link": true
    },
    "kernelspec": {
      "name": "python3",
      "display_name": "Python 3"
    },
    "language_info": {
      "name": "python"
    }
  },
  "cells": [
    {
      "cell_type": "markdown",
      "metadata": {
        "id": "view-in-github",
        "colab_type": "text"
      },
      "source": [
        "<a href=\"https://colab.research.google.com/github/jeniferGoncalvesDaSilvaDev/Econometria-aulas/blob/main/correlacao_linear_econometria.ipynb\" target=\"_parent\"><img src=\"https://colab.research.google.com/assets/colab-badge.svg\" alt=\"Open In Colab\"/></a>"
      ]
    },
    {
      "cell_type": "code",
      "execution_count": 1,
      "metadata": {
        "colab": {
          "base_uri": "https://localhost:8080/"
        },
        "id": "n7QxrGfrUyj8",
        "outputId": "dacdfdad-7fdb-4db2-bd5c-89850fefd966"
      },
      "outputs": [
        {
          "output_type": "stream",
          "name": "stdout",
          "text": [
            "[10, 9, 7, 4, 6, 8, 10, 3, 7, 10]\n",
            "[50, 63, 21, 8, 18, 72, 40, 15, 28, 10]\n",
            "325\n",
            "43\n",
            "74\n",
            "valor esperado x e y 6.8\n",
            "somas de x e y ao quadrado 235 2\n",
            "variancia x e y  -227.25 -765.0\n",
            "valor p:  0.02\n",
            "nao passou no teste, hipotese nula nao rejeitada 0.02\n",
            "valor f 0.0\n"
          ]
        }
      ],
      "source": [
        "#import numpy as np\n",
        "from math import sqrt\n",
        "import matplotlib.pyplot as plt\n",
        "\n",
        "notas_athos=[10,9,7,4,6,8,10,3,7,10]\n",
        "print(notas_athos)\n",
        "#print(notas_cadres)\n",
        "likes_athos=[5,7,3,2,3,9,4,5,4,1]\n",
        "\n",
        "\n",
        "cov=0\n",
        "soma=0\n",
        "x_vezes_y=0\n",
        "lista_x_y=[]\n",
        "#manualmente\n",
        "#likes-x\n",
        "#notas-y\n",
        "for i in range(len(likes_athos)):\n",
        "   x_vezes_y = likes_athos[i]*notas_athos[i]\n",
        "   lista_x_y.append(x_vezes_y)\n",
        "print(lista_x_y)\n",
        "\n",
        "for i in range(len(lista_x_y)):\n",
        "  soma+=lista_x_y[i]\n",
        "print(soma)\n",
        "soma_x=0\n",
        "soma_y=0\n",
        "for i in range(len(likes_athos)):\n",
        "   soma_x+=likes_athos[i]\n",
        "print(soma_x)\n",
        "for i in range(len(notas_athos)):\n",
        "   soma_y+=notas_athos[i]\n",
        "print(soma_y)\n",
        "n = len(notas_athos)\n",
        "valor_esperado_x_y = soma -((soma_x*soma_y)/n)\n",
        "print(\"valor esperado x e y\",round(valor_esperado_x_y,2))\n",
        "#variancia de x\n",
        "soma_x_quadrado=0\n",
        "for i in range(len(likes_athos)):\n",
        "  soma_x_quadrado+=likes_athos[i]**2\n",
        "soma_y_quadrado=0\n",
        "for i in range(len(notas_athos)):\n",
        "  soma_y_quadrado+=notas_athos[i]**2\n",
        "variancia_x=soma_x_quadrado-((soma_x/2)**2)\n",
        "variancia_y=soma_y_quadrado-((soma_y/2)**2)\n",
        "print(\"somas de x e y ao quadrado\", round(soma_x_quadrado,soma_y_quadrado),2)\n",
        "print(\"variancia x e y \",variancia_x,variancia_y)\n",
        "#valor p\n",
        "p = valor_esperado_x_y/sqrt(variancia_x*variancia_y)\n",
        "print(\"valor p: \",round(p,2))\n",
        "#teste de hipotese\n",
        "if p > 0.05:\n",
        "   print(\"a hipotese nula é rejeitada\", round(p,2))\n",
        "else:\n",
        "   print(\"nao passou no teste, hipotese nula nao rejeitada\",round(p,2))\n",
        "#calcular o valor f\n",
        "f = (p**2) * (n-2)/(1-(p**2))\n",
        "print(\"valor f\",round(f,2))"
      ]
    },
    {
      "cell_type": "code",
      "source": [
        "plt.scatter(likes_athos,notas_athos)\n",
        "#plt.plot(likes_athos,notas_athos)"
      ],
      "metadata": {
        "colab": {
          "base_uri": "https://localhost:8080/",
          "height": 303
        },
        "id": "5-q8ANJ7U1Zt",
        "outputId": "ea17c5a1-970d-4de6-db8f-28bda5bde4b2"
      },
      "execution_count": 3,
      "outputs": [
        {
          "output_type": "execute_result",
          "data": {
            "text/plain": [
              "<matplotlib.collections.PathCollection at 0x7a8418f7e290>"
            ]
          },
          "metadata": {},
          "execution_count": 3
        },
        {
          "output_type": "display_data",
          "data": {
            "text/plain": [
              "<Figure size 640x480 with 1 Axes>"
            ],
            "image/png": "[encoded data removed]"
          },
          "metadata": {}
        }
      ]
    }
  ]
}