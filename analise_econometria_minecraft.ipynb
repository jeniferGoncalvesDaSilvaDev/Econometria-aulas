{
  "nbformat": 4,
  "nbformat_minor": 0,
  "metadata": {
    "colab": {
      "provenance": [],
      "mount_file_id": "https://github.com/jeniferGoncalvesDaSilvaDev/Econometria-aulas/blob/main/analise_econometria_minecraft.ipynb",
      "authorship_tag": "ABX9TyN8Fir6OVzLibkS6tWRfxHT",
      "include_colab_link": true
    },
    "kernelspec": {
      "name": "python3",
      "display_name": "Python 3"
    },
    "language_info": {
      "name": "python"
    }
  },
  "cells": [
    {
      "cell_type": "markdown",
      "metadata": {
        "id": "view-in-github",
        "colab_type": "text"
      },
      "source": [
        "<a href=\"https://colab.research.google.com/github/jeniferGoncalvesDaSilvaDev/Econometria-aulas/blob/main/analise_econometria_minecraft.ipynb\" target=\"_parent\"><img src=\"https://colab.research.google.com/assets/colab-badge.svg\" alt=\"Open In Colab\"/></a>"
      ]
    },
    {
      "cell_type": "code",
      "execution_count": 16,
      "metadata": {
        "id": "gcmMP3BT_fk8"
      },
      "outputs": [],
      "source": [
        "import pandas as pd\n",
        "import matplotlib.pyplot as plt"
      ]
    },
    {
      "cell_type": "code",
      "source": [
        "df = pd.read_csv(\"/content/drive/MyDrive/Econometria /piracydataset.csv\")"
      ],
      "metadata": {
        "id": "U7us_5PSBvoo"
      },
      "execution_count": 17,
      "outputs": []
    },
    {
      "cell_type": "code",
      "source": [
        "print(df.head(4))"
      ],
      "metadata": {
        "colab": {
          "base_uri": "https://localhost:8080/"
        },
        "id": "CpwzKvnPB8Lt",
        "outputId": "841b0b8f-ff10-41e6-99c2-33cd10889786"
      },
      "execution_count": 18,
      "outputs": [
        {
          "output_type": "stream",
          "name": "stdout",
          "text": [
            "   Unnamed: 0   age         discordid      minecraftid  \\\n",
            "0           0  14.0  ProGamer300#3331     ProGamer300    \n",
            "1           1  19.0       @shrey#4934      shrey_jain_   \n",
            "2           2  18.0   Skullfaced#8657  Skullfaceddeath   \n",
            "3           3  17.0  Op DzGhOsT#8719      DzGHoST1737    \n",
            "\n",
            "                      client       version  \n",
            "0  Computer ( Java Edition )       Cracked  \n",
            "1  Computer ( Java Edition )       Cracked  \n",
            "2  Computer ( Java Edition )  Paid Version  \n",
            "3  Computer ( Java Edition )       Cracked  \n"
          ]
        }
      ]
    },
    {
      "cell_type": "code",
      "source": [
        "df.columns"
      ],
      "metadata": {
        "colab": {
          "base_uri": "https://localhost:8080/"
        },
        "id": "d5-eKVKoCprr",
        "outputId": "70240a2f-dd88-4bd3-9d91-912d92f74f5d"
      },
      "execution_count": null,
      "outputs": [
        {
          "output_type": "execute_result",
          "data": {
            "text/plain": [
              "Index(['Unnamed: 0', 'age', 'discordid', 'minecraftid', 'client', 'version'], dtype='object')"
            ]
          },
          "metadata": {},
          "execution_count": 4
        }
      ]
    },
    {
      "cell_type": "code",
      "source": [
        "print(df.isnull().sum())"
      ],
      "metadata": {
        "colab": {
          "base_uri": "https://localhost:8080/"
        },
        "id": "RNQxUgh3CxRw",
        "outputId": "ee42788a-5f17-4915-9a4a-39a40e8544eb"
      },
      "execution_count": null,
      "outputs": [
        {
          "output_type": "stream",
          "name": "stdout",
          "text": [
            "Unnamed: 0     0\n",
            "age            1\n",
            "discordid      0\n",
            "minecraftid    0\n",
            "client         0\n",
            "version        0\n",
            "dtype: int64\n"
          ]
        }
      ]
    },
    {
      "cell_type": "code",
      "source": [
        "age = df['age']\n",
        "print(age)"
      ],
      "metadata": {
        "id": "0UfYSXLODF5c",
        "outputId": "d0102992-ff56-4bf2-9558-7513ffcfa55c",
        "colab": {
          "base_uri": "https://localhost:8080/"
        }
      },
      "execution_count": 19,
      "outputs": [
        {
          "output_type": "stream",
          "name": "stdout",
          "text": [
            "0       14.0\n",
            "1       19.0\n",
            "2       18.0\n",
            "3       17.0\n",
            "4       15.0\n",
            "        ... \n",
            "1418    17.0\n",
            "1419    15.0\n",
            "1420    17.0\n",
            "1421    15.0\n",
            "1422    14.0\n",
            "Name: age, Length: 1423, dtype: float64\n"
          ]
        }
      ]
    },
    {
      "cell_type": "code",
      "source": [
        "plt.hist(age, bins=6)"
      ],
      "metadata": {
        "id": "rDwa66weECEM",
        "outputId": "e1e0096f-c304-4b02-fdb8-0303de320b2f",
        "colab": {
          "base_uri": "https://localhost:8080/",
          "height": 328
        }
      },
      "execution_count": null,
      "outputs": [
        {
          "output_type": "execute_result",
          "data": {
            "text/plain": [
              "(array([  27.,  201., 1070.,  114.,    4.,    6.]),\n",
              " array([ 1.,  8., 15., 22., 29., 36., 43.]),\n",
              " <BarContainer object of 6 artists>)"
            ]
          },
          "metadata": {},
          "execution_count": 10
        },
        {
          "output_type": "display_data",
          "data": {
            "text/plain": [
              "<Figure size 640x480 with 1 Axes>"
            ],
            "image/png": "[encoded data removed]"
          },
          "metadata": {}
        }
      ]
    },
    {
      "cell_type": "code",
      "source": [
        "version = df['version']\n",
        "print(version)"
      ],
      "metadata": {
        "id": "8nObkR8VI9Mh",
        "outputId": "1372aa36-d996-4703-9258-a6086c585fdf",
        "colab": {
          "base_uri": "https://localhost:8080/"
        }
      },
      "execution_count": 29,
      "outputs": [
        {
          "output_type": "stream",
          "name": "stdout",
          "text": [
            "0            Cracked\n",
            "1            Cracked\n",
            "2       Paid Version\n",
            "3            Cracked\n",
            "4       Paid Version\n",
            "            ...     \n",
            "1418         Cracked\n",
            "1419         Cracked\n",
            "1420         Cracked\n",
            "1421         Cracked\n",
            "1422         Cracked\n",
            "Name: version, Length: 1423, dtype: object\n"
          ]
        }
      ]
    },
    {
      "cell_type": "code",
      "source": [
        "x = age.tolist()\n",
        "y = version.tolist()"
      ],
      "metadata": {
        "id": "xPuOf5sFFcol"
      },
      "execution_count": 21,
      "outputs": []
    },
    {
      "cell_type": "code",
      "source": [
        "print(y)"
      ],
      "metadata": {
        "id": "Z_Vy4JiPFti2",
        "outputId": "a4a7880b-3fab-4bba-bb5a-78640ac9cc49",
        "colab": {
          "base_uri": "https://localhost:8080/"
        }
      },
      "execution_count": null,
      "outputs": [
        {
          "output_type": "stream",
          "name": "stdout",
          "text": [
            "['Cracked', 'Cracked', 'Paid Version', 'Cracked', 'Paid Version', 'Cracked', 'Cracked', 'Cracked', 'Paid Version', 'Cracked', 'Paid Version', 'Cracked', 'Cracked', 'Cracked', 'Cracked', 'Paid Version', 'Cracked', 'Paid Version', 'Cracked', 'Cracked', 'Paid Version', 'Cracked', 'Cracked', 'Paid Version', 'Cracked', 'Cracked', 'Cracked', 'Cracked', 'Paid Version', 'Paid Version', 'Paid Version', 'Cracked', 'Paid Version', 'Paid Version', 'Paid Version', 'Cracked', 'Cracked', 'Cracked', 'Cracked', 'Cracked', 'Cracked', 'Cracked', 'Cracked', 'Cracked', 'Paid Version', 'Paid Version', 'Cracked', 'Cracked', 'Cracked', 'Cracked', 'Cracked', 'Cracked', 'Cracked', 'Paid Version', 'Paid Version', 'Cracked', 'Cracked', 'Cracked', 'Cracked', 'Paid Version', 'Cracked', 'Cracked', 'Cracked', 'Cracked', 'Cracked', 'Cracked', 'Cracked', 'Cracked', 'Cracked', 'Cracked', 'Paid Version', 'Cracked', 'Cracked', 'Cracked', 'Paid Version', 'Paid Version', 'Cracked', 'Cracked', 'Cracked', 'Paid Version', 'Cracked', 'Paid Version', 'Cracked', 'Paid Version', 'Cracked', 'Cracked', 'Paid Version', 'Cracked', 'Cracked', 'Cracked', 'Cracked', 'Cracked', 'Cracked', 'Cracked', 'Cracked', 'Cracked', 'Paid Version', 'Cracked', 'Cracked', 'Cracked', 'Cracked', 'Cracked', 'Cracked', 'Cracked', 'Cracked', 'Cracked', 'Cracked', 'Cracked', 'Cracked', 'Cracked', 'Cracked', 'Cracked', 'Cracked', 'Paid Version', 'Cracked', 'Cracked', 'Cracked', 'Cracked', 'Cracked', 'Cracked', 'Cracked', 'Cracked', 'Cracked', 'Cracked', 'Cracked', 'Cracked', 'Paid Version', 'Cracked', 'Paid Version', 'Cracked', 'Paid Version', 'Cracked', 'Cracked', 'Cracked', 'Cracked', 'Cracked', 'Cracked', 'Paid Version', 'Cracked', 'Cracked', 'Paid Version', 'Cracked', 'Cracked', 'Paid Version', 'Cracked', 'Cracked', 'Cracked', 'Cracked', 'Cracked', 'Cracked', 'Paid Version', 'Cracked', 'Cracked', 'Cracked', 'Cracked', 'Cracked', 'Cracked', 'Paid Version', 'Cracked', 'Paid Version', 'Cracked', 'Cracked', 'Cracked', 'Paid Version', 'Cracked', 'Cracked', 'Paid Version', 'Cracked', 'Cracked', 'Cracked', 'Cracked', 'Cracked', 'Paid Version', 'Cracked', 'Cracked', 'Cracked', 'Cracked', 'Cracked', 'Cracked', 'Cracked', 'Cracked', 'Paid Version', 'Cracked', 'Paid Version', 'Cracked', 'Paid Version', 'Cracked', 'Cracked', 'Cracked', 'Cracked', 'Cracked', 'Paid Version', 'Cracked', 'Cracked', 'Cracked', 'Cracked', 'Paid Version', 'Cracked', 'Cracked', 'Cracked', 'Cracked', 'Cracked', 'Cracked', 'Cracked', 'Cracked', 'Cracked', 'Paid Version', 'Cracked', 'Cracked', 'Cracked', 'Cracked', 'Cracked', 'Cracked', 'Cracked', 'Paid Version', 'Cracked', 'Cracked', 'Cracked', 'Cracked', 'Cracked', 'Paid Version', 'Cracked', 'Cracked', 'Cracked', 'Cracked', 'Cracked', 'Paid Version', 'Cracked', 'Cracked', 'Cracked', 'Cracked', 'Cracked', 'Cracked', 'Paid Version', 'Cracked', 'Cracked', 'Cracked', 'Cracked', 'Cracked', 'Paid Version', 'Cracked', 'Cracked', 'Cracked', 'Cracked', 'Cracked', 'Cracked', 'Cracked', 'Cracked', 'Cracked', 'Cracked', 'Cracked', 'Cracked', 'Cracked', 'Cracked', 'Cracked', 'Paid Version', 'Cracked', 'Cracked', 'Cracked', 'Paid Version', 'Paid Version', 'Cracked', 'Cracked', 'Paid Version', 'Paid Version', 'Paid Version', 'Cracked', 'Cracked', 'Cracked', 'Cracked', 'Cracked', 'Cracked', 'Paid Version', 'Cracked', 'Cracked', 'Cracked', 'Paid Version', 'Paid Version', 'Cracked', 'Cracked', 'Cracked', 'Cracked', 'Cracked', 'Cracked', 'Paid Version', 'Cracked', 'Cracked', 'Paid Version', 'Paid Version', 'Cracked', 'Paid Version', 'Cracked', 'Cracked', 'Paid Version', 'Cracked', 'Paid Version', 'Cracked', 'Cracked', 'Cracked', 'Cracked', 'Cracked', 'Cracked', 'Cracked', 'Cracked', 'Cracked', 'Cracked', 'Cracked', 'Cracked', 'Cracked', 'Cracked', 'Cracked', 'Paid Version', 'Cracked', 'Cracked', 'Cracked', 'Cracked', 'Cracked', 'Cracked', 'Cracked', 'Cracked', 'Paid Version', 'Cracked', 'Cracked', 'Cracked', 'Cracked', 'Cracked', 'Cracked', 'Paid Version', 'Cracked', 'Cracked', 'Cracked', 'Cracked', 'Cracked', 'Cracked', 'Cracked', 'Cracked', 'Cracked', 'Cracked', 'Cracked', 'Cracked', 'Cracked', 'Cracked', 'Cracked', 'Cracked', 'Cracked', 'Cracked', 'Cracked', 'Cracked', 'Cracked', 'Cracked', 'Cracked', 'Paid Version', 'Paid Version', 'Cracked', 'Cracked', 'Paid Version', 'Cracked', 'Cracked', 'Cracked', 'Cracked', 'Cracked', 'Paid Version', 'Cracked', 'Cracked', 'Paid Version', 'Cracked', 'Cracked', 'Paid Version', 'Cracked', 'Cracked', 'Cracked', 'Cracked', 'Cracked', 'Cracked', 'Cracked', 'Cracked', 'Cracked', 'Paid Version', 'Cracked', 'Cracked', 'Cracked', 'Cracked', 'Paid Version', 'Cracked', 'Paid Version', 'Cracked', 'Paid Version', 'Cracked', 'Cracked', 'Paid Version', 'Cracked', 'Cracked', 'Cracked', 'Cracked', 'Cracked', 'Cracked', 'Cracked', 'Paid Version', 'Cracked', 'Cracked', 'Cracked', 'Cracked', 'Cracked', 'Cracked', 'Cracked', 'Cracked', 'Cracked', 'Cracked', 'Cracked', 'Cracked', 'Cracked', 'Cracked', 'Cracked', 'Cracked', 'Cracked', 'Cracked', 'Paid Version', 'Cracked', 'Cracked', 'Cracked', 'Paid Version', 'Cracked', 'Cracked', 'Cracked', 'Paid Version', 'Cracked', 'Paid Version', 'Cracked', 'Cracked', 'Cracked', 'Cracked', 'Cracked', 'Paid Version', 'Cracked', 'Cracked', 'Cracked', 'Cracked', 'Cracked', 'Cracked', 'Cracked', 'Cracked', 'Paid Version', 'Cracked', 'Cracked', 'Cracked', 'Cracked', 'Cracked', 'Paid Version', 'Cracked', 'Cracked', 'Cracked', 'Cracked', 'Cracked', 'Cracked', 'Cracked', 'Cracked', 'Cracked', 'Cracked', 'Cracked', 'Cracked', 'Cracked', 'Cracked', 'Paid Version', 'Cracked', 'Paid Version', 'Cracked', 'Cracked', 'Cracked', 'Cracked', 'Cracked', 'Cracked', 'Cracked', 'Cracked', 'Cracked', 'Cracked', 'Cracked', 'Cracked', 'Cracked', 'Cracked', 'Cracked', 'Paid Version', 'Cracked', 'Paid Version', 'Paid Version', 'Cracked', 'Paid Version', 'Cracked', 'Cracked', 'Cracked', 'Cracked', 'Cracked', 'Cracked', 'Cracked', 'Cracked', 'Cracked', 'Paid Version', 'Cracked', 'Cracked', 'Cracked', 'Cracked', 'Cracked', 'Cracked', 'Cracked', 'Cracked', 'Cracked', 'Cracked', 'Cracked', 'Cracked', 'Cracked', 'Cracked', 'Cracked', 'Cracked', 'Paid Version', 'Paid Version', 'Cracked', 'Cracked', 'Cracked', 'Paid Version', 'Paid Version', 'Paid Version', 'Paid Version', 'Cracked', 'Cracked', 'Cracked', 'Cracked', 'Cracked', 'Cracked', 'Cracked', 'Cracked', 'Cracked', 'Cracked', 'Cracked', 'Paid Version', 'Cracked', 'Cracked', 'Cracked', 'Paid Version', 'Cracked', 'Cracked', 'Cracked', 'Cracked', 'Paid Version', 'Cracked', 'Paid Version', 'Cracked', 'Cracked', 'Cracked', 'Paid Version', 'Cracked', 'Cracked', 'Paid Version', 'Cracked', 'Cracked', 'Cracked', 'Cracked', 'Cracked', 'Cracked', 'Cracked', 'Cracked', 'Cracked', 'Cracked', 'Cracked', 'Cracked', 'Paid Version', 'Paid Version', 'Cracked', 'Paid Version', 'Cracked', 'Cracked', 'Cracked', 'Cracked', 'Cracked', 'Cracked', 'Paid Version', 'Cracked', 'Cracked', 'Cracked', 'Paid Version', 'Cracked', 'Cracked', 'Cracked', 'Cracked', 'Cracked', 'Paid Version', 'Cracked', 'Cracked', 'Cracked', 'Paid Version', 'Paid Version', 'Cracked', 'Cracked', 'Cracked', 'Cracked', 'Cracked', 'Cracked', 'Paid Version', 'Cracked', 'Paid Version', 'Paid Version', 'Cracked', 'Cracked', 'Cracked', 'Cracked', 'Cracked', 'Cracked', 'Paid Version', 'Cracked', 'Cracked', 'Paid Version', 'Cracked', 'Cracked', 'Cracked', 'Cracked', 'Cracked', 'Cracked', 'Paid Version', 'Paid Version', 'Cracked', 'Cracked', 'Paid Version', 'Cracked', 'Cracked', 'Cracked', 'Cracked', 'Paid Version', 'Cracked', 'Cracked', 'Paid Version', 'Paid Version', 'Paid Version', 'Cracked', 'Paid Version', 'Cracked', 'Cracked', 'Paid Version', 'Cracked', 'Paid Version', 'Cracked', 'Cracked', 'Paid Version', 'Paid Version', 'Cracked', 'Cracked', 'Paid Version', 'Cracked', 'Cracked', 'Paid Version', 'Cracked', 'Cracked', 'Cracked', 'Cracked', 'Cracked', 'Cracked', 'Cracked', 'Paid Version', 'Cracked', 'Cracked', 'Cracked', 'Cracked', 'Cracked', 'Cracked', 'Cracked', 'Cracked', 'Paid Version', 'Paid Version', 'Cracked', 'Cracked', 'Cracked', 'Cracked', 'Cracked', 'Cracked', 'Cracked', 'Cracked', 'Paid Version', 'Cracked', 'Cracked', 'Cracked', 'Cracked', 'Cracked', 'Cracked', 'Cracked', 'Paid Version', 'Cracked', 'Cracked', 'Cracked', 'Cracked', 'Paid Version', 'Cracked', 'Cracked', 'Cracked', 'Cracked', 'Paid Version', 'Cracked', 'Cracked', 'Paid Version', 'Cracked', 'Cracked', 'Cracked', 'Cracked', 'Cracked', 'Paid Version', 'Paid Version', 'Cracked', 'Cracked', 'Cracked', 'Cracked', 'Cracked', 'Cracked', 'Cracked', 'Cracked', 'Cracked', 'Paid Version', 'Paid Version', 'Cracked', 'Cracked', 'Cracked', 'Paid Version', 'Cracked', 'Cracked', 'Paid Version', 'Cracked', 'Cracked', 'Cracked', 'Cracked', 'Cracked', 'Paid Version', 'Cracked', 'Cracked', 'Cracked', 'Paid Version', 'Cracked', 'Cracked', 'Cracked', 'Cracked', 'Paid Version', 'Cracked', 'Cracked', 'Paid Version', 'Paid Version', 'Cracked', 'Cracked', 'Cracked', 'Cracked', 'Cracked', 'Cracked', 'Cracked', 'Cracked', 'Cracked', 'Cracked', 'Cracked', 'Cracked', 'Paid Version', 'Cracked', 'Paid Version', 'Cracked', 'Paid Version', 'Cracked', 'Paid Version', 'Paid Version', 'Cracked', 'Cracked', 'Paid Version', 'Cracked', 'Cracked', 'Cracked', 'Cracked', 'Cracked', 'Cracked', 'Cracked', 'Cracked', 'Cracked', 'Cracked', 'Cracked', 'Cracked', 'Cracked', 'Paid Version', 'Cracked', 'Cracked', 'Cracked', 'Cracked', 'Cracked', 'Paid Version', 'Cracked', 'Cracked', 'Cracked', 'Cracked', 'Paid Version', 'Cracked', 'Cracked', 'Paid Version', 'Cracked', 'Cracked', 'Cracked', 'Paid Version', 'Cracked', 'Cracked', 'Cracked', 'Cracked', 'Paid Version', 'Cracked', 'Cracked', 'Cracked', 'Cracked', 'Cracked', 'Cracked', 'Cracked', 'Cracked', 'Cracked', 'Cracked', 'Cracked', 'Paid Version', 'Cracked', 'Cracked', 'Cracked', 'Cracked', 'Paid Version', 'Paid Version', 'Cracked', 'Cracked', 'Paid Version', 'Cracked', 'Paid Version', 'Cracked', 'Paid Version', 'Paid Version', 'Cracked', 'Cracked', 'Paid Version', 'Cracked', 'Cracked', 'Paid Version', 'Paid Version', 'Cracked', 'Cracked', 'Cracked', 'Cracked', 'Paid Version', 'Cracked', 'Cracked', 'Cracked', 'Cracked', 'Cracked', 'Cracked', 'Cracked', 'Cracked', 'Cracked', 'Cracked', 'Paid Version', 'Cracked', 'Paid Version', 'Cracked', 'Cracked', 'Cracked', 'Cracked', 'Cracked', 'Cracked', 'Cracked', 'Cracked', 'Cracked', 'Cracked', 'Paid Version', 'Paid Version', 'Cracked', 'Cracked', 'Cracked', 'Cracked', 'Cracked', 'Cracked', 'Cracked', 'Cracked', 'Paid Version', 'Paid Version', 'Paid Version', 'Cracked', 'Cracked', 'Cracked', 'Cracked', 'Cracked', 'Cracked', 'Paid Version', 'Cracked', 'Paid Version', 'Cracked', 'Cracked', 'Cracked', 'Cracked', 'Cracked', 'Cracked', 'Cracked', 'Cracked', 'Cracked', 'Paid Version', 'Cracked', 'Cracked', 'Cracked', 'Cracked', 'Cracked', 'Cracked', 'Cracked', 'Cracked', 'Cracked', 'Cracked', 'Cracked', 'Paid Version', 'Cracked', 'Cracked', 'Cracked', 'Cracked', 'Cracked', 'Cracked', 'Cracked', 'Cracked', 'Cracked', 'Paid Version', 'Cracked', 'Cracked', 'Paid Version', 'Paid Version', 'Paid Version', 'Cracked', 'Cracked', 'Cracked', 'Cracked', 'Cracked', 'Cracked', 'Paid Version', 'Cracked', 'Cracked', 'Cracked', 'Cracked', 'Cracked', 'Cracked', 'Cracked', 'Cracked', 'Cracked', 'Cracked', 'Paid Version', 'Cracked', 'Cracked', 'Paid Version', 'Cracked', 'Cracked', 'Cracked', 'Cracked', 'Cracked', 'Paid Version', 'Cracked', 'Paid Version', 'Cracked', 'Cracked', 'Cracked', 'Cracked', 'Paid Version', 'Cracked', 'Cracked', 'Cracked', 'Cracked', 'Cracked', 'Cracked', 'Paid Version', 'Cracked', 'Cracked', 'Cracked', 'Cracked', 'Cracked', 'Cracked', 'Cracked', 'Paid Version', 'Cracked', 'Cracked', 'Cracked', 'Paid Version', 'Cracked', 'Cracked', 'Cracked', 'Cracked', 'Cracked', 'Paid Version', 'Cracked', 'Cracked', 'Cracked', 'Paid Version', 'Cracked', 'Cracked', 'Cracked', 'Cracked', 'Cracked', 'Cracked', 'Cracked', 'Cracked', 'Cracked', 'Cracked', 'Cracked', 'Cracked', 'Cracked', 'Cracked', 'Cracked', 'Cracked', 'Paid Version', 'Cracked', 'Cracked', 'Cracked', 'Cracked', 'Cracked', 'Cracked', 'Cracked', 'Cracked', 'Cracked', 'Cracked', 'Cracked', 'Cracked', 'Cracked', 'Cracked', 'Paid Version', 'Cracked', 'Paid Version', 'Cracked', 'Cracked', 'Cracked', 'Cracked', 'Paid Version', 'Cracked', 'Paid Version', 'Cracked', 'Cracked', 'Cracked', 'Paid Version', 'Cracked', 'Cracked', 'Cracked', 'Cracked', 'Cracked', 'Cracked', 'Cracked', 'Cracked', 'Cracked', 'Cracked', 'Cracked', 'Cracked', 'Cracked', 'Paid Version', 'Cracked', 'Cracked', 'Cracked', 'Cracked', 'Cracked', 'Cracked', 'Paid Version', 'Cracked', 'Paid Version', 'Cracked', 'Cracked', 'Cracked', 'Cracked', 'Paid Version', 'Cracked', 'Cracked', 'Cracked', 'Paid Version', 'Cracked', 'Cracked', 'Cracked', 'Cracked', 'Paid Version', 'Cracked', 'Cracked', 'Cracked', 'Cracked', 'Cracked', 'Cracked', 'Paid Version', 'Paid Version', 'Cracked', 'Cracked', 'Paid Version', 'Paid Version', 'Cracked', 'Cracked', 'Cracked', 'Cracked', 'Cracked', 'Cracked', 'Cracked', 'Cracked', 'Paid Version', 'Cracked', 'Cracked', 'Cracked', 'Cracked', 'Cracked', 'Cracked', 'Cracked', 'Cracked', 'Cracked', 'Cracked', 'Paid Version', 'Paid Version', 'Cracked', 'Cracked', 'Cracked', 'Cracked', 'Cracked', 'Cracked', 'Cracked', 'Cracked', 'Cracked', 'Cracked', 'Cracked', 'Paid Version', 'Cracked', 'Cracked', 'Cracked', 'Cracked', 'Paid Version', 'Cracked', 'Paid Version', 'Cracked', 'Cracked', 'Cracked', 'Cracked', 'Paid Version', 'Cracked', 'Cracked', 'Paid Version', 'Paid Version', 'Cracked', 'Cracked', 'Cracked', 'Cracked', 'Cracked', 'Cracked', 'Paid Version', 'Cracked', 'Cracked', 'Cracked', 'Cracked', 'Cracked', 'Cracked', 'Cracked', 'Cracked', 'Cracked', 'Paid Version', 'Cracked', 'Cracked', 'Cracked', 'Cracked', 'Cracked', 'Cracked', 'Cracked', 'Paid Version', 'Cracked', 'Cracked', 'Cracked', 'Cracked', 'Cracked', 'Cracked', 'Cracked', 'Cracked', 'Cracked', 'Cracked', 'Cracked', 'Cracked', 'Cracked', 'Paid Version', 'Cracked', 'Cracked', 'Cracked', 'Cracked', 'Cracked', 'Cracked', 'Cracked', 'Paid Version', 'Cracked', 'Cracked', 'Cracked', 'Cracked', 'Cracked', 'Cracked', 'Cracked', 'Paid Version', 'Cracked', 'Paid Version', 'Cracked', 'Cracked', 'Cracked', 'Cracked', 'Cracked', 'Paid Version', 'Cracked', 'Cracked', 'Cracked', 'Cracked', 'Paid Version', 'Cracked', 'Cracked', 'Cracked', 'Cracked', 'Cracked', 'Cracked', 'Cracked', 'Cracked', 'Cracked', 'Paid Version', 'Cracked', 'Paid Version', 'Cracked', 'Cracked', 'Cracked', 'Cracked', 'Cracked', 'Paid Version', 'Cracked', 'Cracked', 'Cracked', 'Cracked', 'Cracked', 'Cracked', 'Cracked', 'Cracked', 'Cracked', 'Cracked', 'Cracked', 'Cracked', 'Cracked', 'Cracked', 'Cracked', 'Paid Version', 'Cracked', 'Cracked', 'Cracked', 'Cracked', 'Cracked', 'Cracked', 'Cracked', 'Cracked', 'Cracked', 'Paid Version', 'Cracked', 'Cracked', 'Cracked', 'Cracked', 'Cracked', 'Paid Version', 'Cracked', 'Cracked', 'Cracked', 'Cracked', 'Cracked', 'Cracked', 'Cracked', 'Cracked', 'Cracked', 'Cracked', 'Cracked', 'Cracked', 'Cracked', 'Paid Version', 'Cracked', 'Cracked', 'Cracked', 'Cracked', 'Paid Version', 'Cracked', 'Cracked', 'Cracked', 'Cracked', 'Cracked', 'Cracked', 'Cracked', 'Cracked', 'Paid Version', 'Cracked', 'Cracked', 'Cracked', 'Cracked', 'Paid Version', 'Cracked', 'Cracked', 'Cracked', 'Cracked', 'Cracked', 'Cracked', 'Cracked', 'Cracked', 'Cracked', 'Cracked', 'Cracked', 'Cracked', 'Cracked', 'Paid Version', 'Cracked', 'Cracked', 'Cracked', 'Cracked', 'Cracked', 'Cracked', 'Cracked', 'Cracked', 'Cracked', 'Cracked', 'Cracked', 'Cracked', 'Cracked', 'Cracked', 'Paid Version', 'Cracked', 'Cracked', 'Cracked', 'Cracked', 'Cracked', 'Cracked', 'Cracked', 'Cracked', 'Cracked', 'Cracked', 'Cracked', 'Cracked', 'Cracked', 'Cracked', 'Cracked', 'Cracked', 'Paid Version', 'Cracked', 'Cracked', 'Cracked', 'Cracked', 'Cracked', 'Paid Version', 'Cracked', 'Cracked', 'Cracked', 'Cracked', 'Cracked', 'Cracked', 'Cracked', 'Paid Version', 'Cracked', 'Cracked', 'Paid Version', 'Cracked', 'Cracked', 'Cracked', 'Cracked', 'Cracked', 'Cracked', 'Cracked', 'Cracked', 'Paid Version', 'Cracked', 'Paid Version', 'Cracked', 'Cracked', 'Cracked', 'Cracked', 'Paid Version', 'Cracked', 'Cracked', 'Cracked', 'Cracked', 'Cracked', 'Cracked', 'Cracked', 'Cracked', 'Cracked', 'Cracked', 'Cracked', 'Paid Version', 'Cracked', 'Cracked', 'Paid Version', 'Cracked', 'Cracked', 'Cracked', 'Cracked', 'Paid Version', 'Paid Version', 'Cracked', 'Cracked', 'Cracked', 'Cracked', 'Paid Version', 'Paid Version', 'Cracked', 'Cracked', 'Cracked', 'Cracked', 'Cracked', 'Cracked', 'Cracked', 'Paid Version', 'Cracked', 'Paid Version', 'Cracked', 'Cracked', 'Cracked', 'Cracked', 'Paid Version', 'Cracked', 'Paid Version', 'Paid Version', 'Cracked', 'Cracked', 'Cracked', 'Cracked', 'Cracked', 'Cracked', 'Cracked', 'Cracked', 'Cracked', 'Cracked', 'Cracked', 'Cracked', 'Paid Version', 'Cracked', 'Cracked', 'Cracked', 'Cracked', 'Cracked', 'Cracked', 'Cracked', 'Cracked', 'Cracked', 'Cracked']\n"
          ]
        }
      ]
    },
    {
      "cell_type": "code",
      "source": [
        "from sklearn.preprocessing import LabelEncoder\n",
        "\n",
        "\n",
        "\n",
        "# Instanciando o LabelEncoder\n",
        "label_encoder = LabelEncoder()\n",
        "\n",
        "# Codificando os dados\n",
        "encoded_data = label_encoder.fit_transform(version)\n",
        "\n",
        "print(encoded_data)\n",
        "print(type(encoded_data))"
      ],
      "metadata": {
        "id": "sJx7M01cHGi5",
        "outputId": "8f631ba8-ddd3-4358-f8c4-8b4f29da8b9a",
        "colab": {
          "base_uri": "https://localhost:8080/"
        }
      },
      "execution_count": 23,
      "outputs": [
        {
          "output_type": "stream",
          "name": "stdout",
          "text": [
            "[0 0 1 ... 0 0 0]\n",
            "<class 'numpy.ndarray'>\n"
          ]
        }
      ]
    },
    {
      "cell_type": "code",
      "source": [
        "new_y= encoded_data.tolist()\n",
        "print(new_y)"
      ],
      "metadata": {
        "id": "kNJlceq4Herp",
        "outputId": "762a6700-3a35-4d97-9fb4-7929d8a97b3c",
        "colab": {
          "base_uri": "https://localhost:8080/"
        }
      },
      "execution_count": 25,
      "outputs": [
        {
          "output_type": "stream",
          "name": "stdout",
          "text": [
            "[0, 0, 1, 0, 1, 0, 0, 0, 1, 0, 1, 0, 0, 0, 0, 1, 0, 1, 0, 0, 1, 0, 0, 1, 0, 0, 0, 0, 1, 1, 1, 0, 1, 1, 1, 0, 0, 0, 0, 0, 0, 0, 0, 0, 1, 1, 0, 0, 0, 0, 0, 0, 0, 1, 1, 0, 0, 0, 0, 1, 0, 0, 0, 0, 0, 0, 0, 0, 0, 0, 1, 0, 0, 0, 1, 1, 0, 0, 0, 1, 0, 1, 0, 1, 0, 0, 1, 0, 0, 0, 0, 0, 0, 0, 0, 0, 1, 0, 0, 0, 0, 0, 0, 0, 0, 0, 0, 0, 0, 0, 0, 0, 0, 1, 0, 0, 0, 0, 0, 0, 0, 0, 0, 0, 0, 0, 1, 0, 1, 0, 1, 0, 0, 0, 0, 0, 0, 1, 0, 0, 1, 0, 0, 1, 0, 0, 0, 0, 0, 0, 1, 0, 0, 0, 0, 0, 0, 1, 0, 1, 0, 0, 0, 1, 0, 0, 1, 0, 0, 0, 0, 0, 1, 0, 0, 0, 0, 0, 0, 0, 0, 1, 0, 1, 0, 1, 0, 0, 0, 0, 0, 1, 0, 0, 0, 0, 1, 0, 0, 0, 0, 0, 0, 0, 0, 0, 1, 0, 0, 0, 0, 0, 0, 0, 1, 0, 0, 0, 0, 0, 1, 0, 0, 0, 0, 0, 1, 0, 0, 0, 0, 0, 0, 1, 0, 0, 0, 0, 0, 1, 0, 0, 0, 0, 0, 0, 0, 0, 0, 0, 0, 0, 0, 0, 0, 1, 0, 0, 0, 1, 1, 0, 0, 1, 1, 1, 0, 0, 0, 0, 0, 0, 1, 0, 0, 0, 1, 1, 0, 0, 0, 0, 0, 0, 1, 0, 0, 1, 1, 0, 1, 0, 0, 1, 0, 1, 0, 0, 0, 0, 0, 0, 0, 0, 0, 0, 0, 0, 0, 0, 0, 1, 0, 0, 0, 0, 0, 0, 0, 0, 1, 0, 0, 0, 0, 0, 0, 1, 0, 0, 0, 0, 0, 0, 0, 0, 0, 0, 0, 0, 0, 0, 0, 0, 0, 0, 0, 0, 0, 0, 0, 1, 1, 0, 0, 1, 0, 0, 0, 0, 0, 1, 0, 0, 1, 0, 0, 1, 0, 0, 0, 0, 0, 0, 0, 0, 0, 1, 0, 0, 0, 0, 1, 0, 1, 0, 1, 0, 0, 1, 0, 0, 0, 0, 0, 0, 0, 1, 0, 0, 0, 0, 0, 0, 0, 0, 0, 0, 0, 0, 0, 0, 0, 0, 0, 0, 1, 0, 0, 0, 1, 0, 0, 0, 1, 0, 1, 0, 0, 0, 0, 0, 1, 0, 0, 0, 0, 0, 0, 0, 0, 1, 0, 0, 0, 0, 0, 1, 0, 0, 0, 0, 0, 0, 0, 0, 0, 0, 0, 0, 0, 0, 1, 0, 1, 0, 0, 0, 0, 0, 0, 0, 0, 0, 0, 0, 0, 0, 0, 0, 1, 0, 1, 1, 0, 1, 0, 0, 0, 0, 0, 0, 0, 0, 0, 1, 0, 0, 0, 0, 0, 0, 0, 0, 0, 0, 0, 0, 0, 0, 0, 0, 1, 1, 0, 0, 0, 1, 1, 1, 1, 0, 0, 0, 0, 0, 0, 0, 0, 0, 0, 0, 1, 0, 0, 0, 1, 0, 0, 0, 0, 1, 0, 1, 0, 0, 0, 1, 0, 0, 1, 0, 0, 0, 0, 0, 0, 0, 0, 0, 0, 0, 0, 1, 1, 0, 1, 0, 0, 0, 0, 0, 0, 1, 0, 0, 0, 1, 0, 0, 0, 0, 0, 1, 0, 0, 0, 1, 1, 0, 0, 0, 0, 0, 0, 1, 0, 1, 1, 0, 0, 0, 0, 0, 0, 1, 0, 0, 1, 0, 0, 0, 0, 0, 0, 1, 1, 0, 0, 1, 0, 0, 0, 0, 1, 0, 0, 1, 1, 1, 0, 1, 0, 0, 1, 0, 1, 0, 0, 1, 1, 0, 0, 1, 0, 0, 1, 0, 0, 0, 0, 0, 0, 0, 1, 0, 0, 0, 0, 0, 0, 0, 0, 1, 1, 0, 0, 0, 0, 0, 0, 0, 0, 1, 0, 0, 0, 0, 0, 0, 0, 1, 0, 0, 0, 0, 1, 0, 0, 0, 0, 1, 0, 0, 1, 0, 0, 0, 0, 0, 1, 1, 0, 0, 0, 0, 0, 0, 0, 0, 0, 1, 1, 0, 0, 0, 1, 0, 0, 1, 0, 0, 0, 0, 0, 1, 0, 0, 0, 1, 0, 0, 0, 0, 1, 0, 0, 1, 1, 0, 0, 0, 0, 0, 0, 0, 0, 0, 0, 0, 0, 1, 0, 1, 0, 1, 0, 1, 1, 0, 0, 1, 0, 0, 0, 0, 0, 0, 0, 0, 0, 0, 0, 0, 0, 1, 0, 0, 0, 0, 0, 1, 0, 0, 0, 0, 1, 0, 0, 1, 0, 0, 0, 1, 0, 0, 0, 0, 1, 0, 0, 0, 0, 0, 0, 0, 0, 0, 0, 0, 1, 0, 0, 0, 0, 1, 1, 0, 0, 1, 0, 1, 0, 1, 1, 0, 0, 1, 0, 0, 1, 1, 0, 0, 0, 0, 1, 0, 0, 0, 0, 0, 0, 0, 0, 0, 0, 1, 0, 1, 0, 0, 0, 0, 0, 0, 0, 0, 0, 0, 1, 1, 0, 0, 0, 0, 0, 0, 0, 0, 1, 1, 1, 0, 0, 0, 0, 0, 0, 1, 0, 1, 0, 0, 0, 0, 0, 0, 0, 0, 0, 1, 0, 0, 0, 0, 0, 0, 0, 0, 0, 0, 0, 1, 0, 0, 0, 0, 0, 0, 0, 0, 0, 1, 0, 0, 1, 1, 1, 0, 0, 0, 0, 0, 0, 1, 0, 0, 0, 0, 0, 0, 0, 0, 0, 0, 1, 0, 0, 1, 0, 0, 0, 0, 0, 1, 0, 1, 0, 0, 0, 0, 1, 0, 0, 0, 0, 0, 0, 1, 0, 0, 0, 0, 0, 0, 0, 1, 0, 0, 0, 1, 0, 0, 0, 0, 0, 1, 0, 0, 0, 1, 0, 0, 0, 0, 0, 0, 0, 0, 0, 0, 0, 0, 0, 0, 0, 0, 1, 0, 0, 0, 0, 0, 0, 0, 0, 0, 0, 0, 0, 0, 0, 1, 0, 1, 0, 0, 0, 0, 1, 0, 1, 0, 0, 0, 1, 0, 0, 0, 0, 0, 0, 0, 0, 0, 0, 0, 0, 0, 1, 0, 0, 0, 0, 0, 0, 1, 0, 1, 0, 0, 0, 0, 1, 0, 0, 0, 1, 0, 0, 0, 0, 1, 0, 0, 0, 0, 0, 0, 1, 1, 0, 0, 1, 1, 0, 0, 0, 0, 0, 0, 0, 0, 1, 0, 0, 0, 0, 0, 0, 0, 0, 0, 0, 1, 1, 0, 0, 0, 0, 0, 0, 0, 0, 0, 0, 0, 1, 0, 0, 0, 0, 1, 0, 1, 0, 0, 0, 0, 1, 0, 0, 1, 1, 0, 0, 0, 0, 0, 0, 1, 0, 0, 0, 0, 0, 0, 0, 0, 0, 1, 0, 0, 0, 0, 0, 0, 0, 1, 0, 0, 0, 0, 0, 0, 0, 0, 0, 0, 0, 0, 0, 1, 0, 0, 0, 0, 0, 0, 0, 1, 0, 0, 0, 0, 0, 0, 0, 1, 0, 1, 0, 0, 0, 0, 0, 1, 0, 0, 0, 0, 1, 0, 0, 0, 0, 0, 0, 0, 0, 0, 1, 0, 1, 0, 0, 0, 0, 0, 1, 0, 0, 0, 0, 0, 0, 0, 0, 0, 0, 0, 0, 0, 0, 0, 1, 0, 0, 0, 0, 0, 0, 0, 0, 0, 1, 0, 0, 0, 0, 0, 1, 0, 0, 0, 0, 0, 0, 0, 0, 0, 0, 0, 0, 0, 1, 0, 0, 0, 0, 1, 0, 0, 0, 0, 0, 0, 0, 0, 1, 0, 0, 0, 0, 1, 0, 0, 0, 0, 0, 0, 0, 0, 0, 0, 0, 0, 0, 1, 0, 0, 0, 0, 0, 0, 0, 0, 0, 0, 0, 0, 0, 0, 1, 0, 0, 0, 0, 0, 0, 0, 0, 0, 0, 0, 0, 0, 0, 0, 0, 1, 0, 0, 0, 0, 0, 1, 0, 0, 0, 0, 0, 0, 0, 1, 0, 0, 1, 0, 0, 0, 0, 0, 0, 0, 0, 1, 0, 1, 0, 0, 0, 0, 1, 0, 0, 0, 0, 0, 0, 0, 0, 0, 0, 0, 1, 0, 0, 1, 0, 0, 0, 0, 1, 1, 0, 0, 0, 0, 1, 1, 0, 0, 0, 0, 0, 0, 0, 1, 0, 1, 0, 0, 0, 0, 1, 0, 1, 1, 0, 0, 0, 0, 0, 0, 0, 0, 0, 0, 0, 0, 1, 0, 0, 0, 0, 0, 0, 0, 0, 0, 0]\n"
          ]
        }
      ]
    },
    {
      "cell_type": "code",
      "source": [
        "x_vezes_y = [i*j for i,j in zip(x,new_y)]\n",
        "print(x_vezes_y)"
      ],
      "metadata": {
        "id": "K-oOHPtMH673",
        "outputId": "37d6def9-154c-478b-8ab8-4dd950ef9803",
        "colab": {
          "base_uri": "https://localhost:8080/"
        }
      },
      "execution_count": 30,
      "outputs": [
        {
          "output_type": "stream",
          "name": "stdout",
          "text": [
            "[0.0, 0.0, 18.0, 0.0, 15.0, 0.0, 0.0, 0.0, 21.0, 0.0, 21.0, 0.0, 0.0, 0.0, 0.0, 17.0, 0.0, 18.0, 0.0, 0.0, 21.0, 0.0, 0.0, 20.0, 0.0, 0.0, 0.0, 0.0, 15.0, 16.0, 15.0, 0.0, 16.0, 15.0, 23.0, 0.0, 0.0, 0.0, 0.0, 0.0, 0.0, 0.0, 0.0, 0.0, 13.0, 17.0, 0.0, 0.0, 0.0, 0.0, 0.0, 0.0, 0.0, 16.0, 17.0, 0.0, 0.0, 0.0, 0.0, 18.0, 0.0, 0.0, 0.0, 0.0, 0.0, 0.0, 0.0, 0.0, 0.0, 0.0, 21.0, 0.0, 0.0, 0.0, 16.0, 16.0, 0.0, 0.0, 0.0, 19.0, 0.0, 14.0, 0.0, 22.0, 0.0, 0.0, 16.0, 0.0, 0.0, 0.0, 0.0, 0.0, 0.0, 0.0, 0.0, 0.0, 15.0, 0.0, 0.0, 0.0, 0.0, 0.0, 0.0, 0.0, 0.0, 0.0, 0.0, 0.0, 0.0, 0.0, 0.0, 0.0, 0.0, 18.0, 0.0, 0.0, 0.0, 0.0, 0.0, 0.0, 0.0, 0.0, 0.0, 0.0, 0.0, 0.0, 18.0, 0.0, 15.0, 0.0, 14.0, 0.0, 0.0, 0.0, 0.0, 0.0, 0.0, 17.0, 0.0, 0.0, 16.0, 0.0, 0.0, 15.0, 0.0, 0.0, 0.0, 0.0, 0.0, 0.0, 15.0, 0.0, 0.0, 0.0, 0.0, 0.0, 0.0, 14.0, 0.0, 18.0, 0.0, 0.0, 0.0, 16.0, 0.0, 0.0, 15.0, 0.0, 0.0, 0.0, 0.0, 0.0, 23.0, 0.0, 0.0, 0.0, 0.0, 0.0, 0.0, 0.0, 0.0, 1.0, 0.0, 15.0, 0.0, 15.0, 0.0, 0.0, 0.0, 0.0, 0.0, 14.0, 0.0, 0.0, 0.0, 0.0, 21.0, 0.0, 0.0, 0.0, 0.0, 0.0, 0.0, 0.0, 0.0, 0.0, 24.0, 0.0, 0.0, 0.0, 0.0, 0.0, 0.0, 0.0, 15.0, 0.0, 0.0, 0.0, 0.0, 0.0, 18.0, 0.0, 0.0, 0.0, 0.0, 0.0, 16.0, 0.0, 0.0, 0.0, 0.0, 0.0, 0.0, 16.0, 0.0, 0.0, 0.0, 0.0, 0.0, 17.0, 0.0, 0.0, 0.0, 0.0, 0.0, 0.0, 0.0, 0.0, 0.0, 0.0, 0.0, 0.0, 0.0, 0.0, 0.0, 16.0, 0.0, 0.0, 0.0, 19.0, 16.0, 0.0, 0.0, 19.0, 15.0, 17.0, 0.0, 0.0, 0.0, 0.0, 0.0, 0.0, 16.0, 0.0, 0.0, 0.0, 14.0, 14.0, 0.0, 0.0, 0.0, 0.0, 0.0, 0.0, 17.0, 0.0, 0.0, 15.0, 22.0, 0.0, 17.0, 0.0, 0.0, 19.0, 0.0, 16.0, 0.0, 0.0, 0.0, 0.0, 0.0, 0.0, 0.0, 0.0, 0.0, 0.0, 0.0, 0.0, 0.0, 0.0, 0.0, 18.0, 0.0, 0.0, 0.0, 0.0, 0.0, 0.0, 0.0, 0.0, 16.0, 0.0, 0.0, 0.0, 0.0, 0.0, 0.0, 18.0, 0.0, 0.0, 0.0, 0.0, 0.0, 0.0, 0.0, 0.0, 0.0, 0.0, 0.0, 0.0, 0.0, 0.0, 0.0, 0.0, 0.0, 0.0, 0.0, 0.0, 0.0, 0.0, 0.0, 18.0, 15.0, 0.0, 0.0, 22.0, 0.0, 0.0, 0.0, 0.0, 0.0, 19.0, 0.0, 0.0, 18.0, 0.0, 0.0, 15.0, 0.0, 0.0, 0.0, 0.0, 0.0, 0.0, 0.0, 0.0, 0.0, 16.0, 0.0, 0.0, 0.0, 0.0, 21.0, 0.0, 19.0, 0.0, 20.0, 0.0, 0.0, 16.0, 0.0, 0.0, 0.0, 0.0, 0.0, 0.0, 0.0, 21.0, 0.0, 0.0, 0.0, 0.0, 0.0, 0.0, 0.0, 0.0, 0.0, 0.0, 0.0, 0.0, 0.0, 0.0, 0.0, 0.0, 0.0, 0.0, 15.0, 0.0, 0.0, 0.0, 15.0, 0.0, 0.0, 0.0, 17.0, 0.0, 17.0, 0.0, 0.0, 0.0, 0.0, 0.0, 14.0, 0.0, 0.0, 0.0, 0.0, 0.0, 0.0, 0.0, 0.0, 22.0, 0.0, 0.0, 0.0, 0.0, 0.0, 24.0, 0.0, 0.0, 0.0, 0.0, 0.0, 0.0, 0.0, 0.0, 0.0, 0.0, 0.0, 0.0, 0.0, 0.0, 22.0, 0.0, 22.0, 0.0, 0.0, 0.0, 0.0, 0.0, 0.0, 0.0, 0.0, 0.0, 0.0, 0.0, 0.0, 0.0, 0.0, 0.0, 17.0, 0.0, 14.0, 22.0, 0.0, 17.0, 0.0, 0.0, 0.0, 0.0, 0.0, 0.0, 0.0, 0.0, 0.0, 22.0, 0.0, 0.0, 0.0, 0.0, 0.0, 0.0, 0.0, 0.0, 0.0, 0.0, 0.0, 0.0, 0.0, 0.0, 0.0, 0.0, 1.0, 15.0, 0.0, 0.0, 0.0, 18.0, 18.0, 18.0, 13.0, 0.0, 0.0, 0.0, 0.0, 0.0, 0.0, 0.0, 0.0, 0.0, 0.0, 0.0, 1.0, 0.0, 0.0, 0.0, 18.0, 0.0, 0.0, 0.0, 0.0, 18.0, 0.0, 15.0, 0.0, 0.0, 0.0, 16.0, 0.0, 0.0, 15.0, 0.0, 0.0, 0.0, 0.0, 0.0, 0.0, 0.0, 0.0, 0.0, 0.0, 0.0, 0.0, 15.0, 18.0, 0.0, 15.0, 0.0, 0.0, 0.0, 0.0, 0.0, 0.0, 14.0, 0.0, 0.0, 0.0, 16.0, 0.0, 0.0, 0.0, 0.0, 0.0, 15.0, 0.0, 0.0, 0.0, 18.0, 17.0, 0.0, 0.0, 0.0, 0.0, 0.0, 0.0, 18.0, 0.0, 19.0, 15.0, 0.0, 0.0, 0.0, 0.0, 0.0, 0.0, 1.0, 0.0, 0.0, 16.0, 0.0, 0.0, 0.0, 0.0, 0.0, 0.0, 16.0, 16.0, 0.0, 0.0, 17.0, 0.0, 0.0, 0.0, 0.0, 20.0, 0.0, 0.0, 16.0, 18.0, 18.0, 0.0, 15.0, 0.0, 0.0, 22.0, 0.0, 16.0, 0.0, 0.0, 22.0, 20.0, 0.0, 0.0, 14.0, 0.0, 0.0, 17.0, 0.0, 0.0, 0.0, 0.0, 0.0, 0.0, 0.0, 15.0, 0.0, 0.0, 0.0, 0.0, 0.0, 0.0, 0.0, 0.0, 16.0, 18.0, 0.0, 0.0, 0.0, 0.0, 0.0, 0.0, 0.0, 0.0, 16.0, 0.0, 0.0, 0.0, 0.0, 0.0, 0.0, 0.0, 17.0, 0.0, 0.0, 0.0, 0.0, 16.0, 0.0, 0.0, 0.0, 0.0, 22.0, 0.0, 0.0, 22.0, 0.0, 0.0, 0.0, 0.0, 0.0, 16.0, 18.0, 0.0, 0.0, 0.0, 0.0, 0.0, 0.0, 0.0, 0.0, 0.0, 16.0, 15.0, 0.0, 0.0, 0.0, 15.0, 0.0, 0.0, 16.0, 0.0, 0.0, 0.0, 0.0, 0.0, 15.0, 0.0, 0.0, 0.0, 15.0, 0.0, 0.0, 0.0, 0.0, 21.0, 0.0, 0.0, 17.0, 16.0, 0.0, 0.0, 0.0, 0.0, 0.0, 0.0, 0.0, 0.0, 0.0, 0.0, 0.0, 0.0, 16.0, 0.0, 14.0, 0.0, 17.0, 0.0, 17.0, 20.0, 0.0, 0.0, 27.0, 0.0, 0.0, 0.0, 0.0, 0.0, 0.0, 0.0, 0.0, 0.0, 0.0, 0.0, 0.0, 0.0, 19.0, 0.0, 0.0, 0.0, 0.0, 0.0, 20.0, 0.0, 0.0, 0.0, 0.0, 17.0, 0.0, 0.0, 16.0, 0.0, 0.0, 0.0, 16.0, 0.0, 0.0, 0.0, 0.0, 14.0, 0.0, 0.0, 0.0, 0.0, 0.0, 0.0, 0.0, 0.0, 0.0, 0.0, 0.0, 23.0, 0.0, 0.0, 0.0, 0.0, 15.0, 17.0, 0.0, 0.0, 15.0, 0.0, 21.0, 0.0, 17.0, 36.0, 0.0, 0.0, 17.0, 0.0, 0.0, 17.0, 13.0, 0.0, 0.0, 0.0, 0.0, 18.0, 0.0, 0.0, 0.0, 0.0, 0.0, 0.0, 0.0, 0.0, 0.0, 0.0, 17.0, 0.0, 17.0, 0.0, 0.0, 0.0, 0.0, 0.0, 0.0, 0.0, 0.0, 0.0, 0.0, 23.0, 14.0, 0.0, 0.0, 0.0, 0.0, 0.0, 0.0, 0.0, 0.0, 14.0, 16.0, 17.0, 0.0, 0.0, 0.0, 0.0, 0.0, 0.0, 16.0, 0.0, 12.0, 0.0, 0.0, 0.0, 0.0, 0.0, 0.0, 0.0, 0.0, 0.0, 21.0, 0.0, 0.0, 0.0, 0.0, 0.0, 0.0, 0.0, 0.0, 0.0, 0.0, 0.0, 16.0, 0.0, 0.0, 0.0, 0.0, 0.0, 0.0, 0.0, 0.0, 0.0, 19.0, 0.0, 0.0, 14.0, 16.0, 18.0, 0.0, 0.0, 0.0, 0.0, 0.0, 0.0, 16.0, 0.0, 0.0, 0.0, 0.0, 0.0, 0.0, 0.0, 0.0, 0.0, 0.0, 22.0, 0.0, 0.0, 17.0, 0.0, 0.0, 0.0, 0.0, 0.0, 15.0, 0.0, 14.0, 0.0, 0.0, 0.0, 0.0, 15.0, 0.0, 0.0, 0.0, 0.0, 0.0, 0.0, 19.0, 0.0, 0.0, 0.0, 0.0, 0.0, 0.0, 0.0, 18.0, 0.0, 0.0, 0.0, 18.0, 0.0, 0.0, 0.0, 0.0, 0.0, 18.0, 0.0, 0.0, 0.0, 17.0, 0.0, 0.0, 0.0, 0.0, 0.0, 0.0, 0.0, 0.0, 0.0, 0.0, 0.0, 0.0, 0.0, 0.0, 0.0, 0.0, 18.0, 0.0, 0.0, 0.0, 0.0, 0.0, 0.0, 0.0, 0.0, 0.0, 0.0, 0.0, 0.0, 0.0, 0.0, 17.0, 0.0, 18.0, 0.0, 0.0, 0.0, 0.0, 13.0, 0.0, 13.0, 0.0, 0.0, 0.0, 17.0, 0.0, 0.0, 0.0, 0.0, 0.0, 0.0, 0.0, 0.0, 0.0, 0.0, 0.0, 0.0, 0.0, 14.0, 0.0, 0.0, 0.0, 0.0, 0.0, 0.0, 20.0, 0.0, 18.0, 0.0, 0.0, 0.0, 0.0, 17.0, 0.0, 0.0, 0.0, 16.0, 0.0, 0.0, 0.0, 0.0, 1.0, 0.0, 0.0, 0.0, 0.0, 0.0, 0.0, 18.0, 18.0, 0.0, 0.0, 20.0, 14.0, 0.0, 0.0, 0.0, 0.0, 0.0, 0.0, 0.0, 0.0, 19.0, 0.0, 0.0, 0.0, 0.0, 0.0, 0.0, 0.0, 0.0, 0.0, 0.0, 17.0, 14.0, 0.0, 0.0, 0.0, 0.0, 0.0, 0.0, 0.0, 0.0, nan, 0.0, 0.0, 15.0, 0.0, 0.0, 0.0, 0.0, 18.0, 0.0, 17.0, 0.0, 0.0, 0.0, 0.0, 18.0, 0.0, 0.0, 19.0, 20.0, 0.0, 0.0, 0.0, 0.0, 0.0, 0.0, 15.0, 0.0, 0.0, 0.0, 0.0, 0.0, 0.0, 0.0, 0.0, 0.0, 24.0, 0.0, 0.0, 0.0, 0.0, 0.0, 0.0, 0.0, 20.0, 0.0, 0.0, 0.0, 0.0, 0.0, 0.0, 0.0, 0.0, 0.0, 0.0, 0.0, 0.0, 0.0, 20.0, 0.0, 0.0, 0.0, 0.0, 0.0, 0.0, 0.0, 15.0, 0.0, 0.0, 0.0, 0.0, 0.0, 0.0, 0.0, 16.0, 0.0, 19.0, 0.0, 0.0, 0.0, 0.0, 0.0, 23.0, 0.0, 0.0, 0.0, 0.0, 14.0, 0.0, 0.0, 0.0, 0.0, 0.0, 0.0, 0.0, 0.0, 0.0, 18.0, 0.0, 18.0, 0.0, 0.0, 0.0, 0.0, 0.0, 19.0, 0.0, 0.0, 0.0, 0.0, 0.0, 0.0, 0.0, 0.0, 0.0, 0.0, 0.0, 0.0, 0.0, 0.0, 0.0, 17.0, 0.0, 0.0, 0.0, 0.0, 0.0, 0.0, 0.0, 0.0, 0.0, 14.0, 0.0, 0.0, 0.0, 0.0, 0.0, 22.0, 0.0, 0.0, 0.0, 0.0, 0.0, 0.0, 0.0, 0.0, 0.0, 0.0, 0.0, 0.0, 0.0, 16.0, 0.0, 0.0, 0.0, 0.0, 17.0, 0.0, 0.0, 0.0, 0.0, 0.0, 0.0, 0.0, 0.0, 14.0, 0.0, 0.0, 0.0, 0.0, 22.0, 0.0, 0.0, 0.0, 0.0, 0.0, 0.0, 0.0, 0.0, 0.0, 0.0, 0.0, 0.0, 0.0, 15.0, 0.0, 0.0, 0.0, 0.0, 0.0, 0.0, 0.0, 0.0, 0.0, 0.0, 0.0, 0.0, 0.0, 0.0, 17.0, 0.0, 0.0, 0.0, 0.0, 0.0, 0.0, 0.0, 0.0, 0.0, 0.0, 0.0, 0.0, 0.0, 0.0, 0.0, 0.0, 20.0, 0.0, 0.0, 0.0, 0.0, 0.0, 12.0, 0.0, 0.0, 0.0, 0.0, 0.0, 0.0, 0.0, 16.0, 0.0, 0.0, 15.0, 0.0, 0.0, 0.0, 0.0, 0.0, 0.0, 0.0, 0.0, 15.0, 0.0, 22.0, 0.0, 0.0, 0.0, 0.0, 15.0, 0.0, 0.0, 0.0, 0.0, 0.0, 0.0, 0.0, 0.0, 0.0, 0.0, 0.0, 16.0, 0.0, 0.0, 16.0, 0.0, 0.0, 0.0, 0.0, 22.0, 16.0, 0.0, 0.0, 0.0, 0.0, 16.0, 16.0, 0.0, 0.0, 0.0, 0.0, 0.0, 0.0, 0.0, 16.0, 0.0, 14.0, 0.0, 0.0, 0.0, 0.0, 18.0, 0.0, 16.0, 21.0, 0.0, 0.0, 0.0, 0.0, 0.0, 0.0, 0.0, 0.0, 0.0, 0.0, 0.0, 0.0, 17.0, 0.0, 0.0, 0.0, 0.0, 0.0, 0.0, 0.0, 0.0, 0.0, 0.0]\n"
          ]
        }
      ]
    },
    {
      "cell_type": "code",
      "source": [
        "soma_x_y =0\n",
        "for i in x_vezes_y:\n",
        "    soma_x_y+=i\n",
        "print(soma_x_y)"
      ],
      "metadata": {
        "id": "c-_EhYbzImiF",
        "outputId": "272e5883-5c69-4a74-c838-2ad4e34b6e31",
        "colab": {
          "base_uri": "https://localhost:8080/"
        }
      },
      "execution_count": 34,
      "outputs": [
        {
          "output_type": "stream",
          "name": "stdout",
          "text": [
            "nan\n"
          ]
        }
      ]
    },
    {
      "cell_type": "code",
      "source": [],
      "metadata": {
        "id": "y0_LAFjgKFwj"
      },
      "execution_count": null,
      "outputs": []
    }
  ]
}