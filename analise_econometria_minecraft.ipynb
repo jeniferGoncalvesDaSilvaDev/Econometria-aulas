{
  "nbformat": 4,
  "nbformat_minor": 0,
  "metadata": {
    "colab": {
      "provenance": [],
      "mount_file_id": "https://github.com/jeniferGoncalvesDaSilvaDev/Econometria-aulas/blob/main/analise_econometria_minecraft.ipynb",
      "authorship_tag": "ABX9TyPSEpkQaehfKa4J0Pb8qxgu",
      "include_colab_link": true
    },
    "kernelspec": {
      "name": "python3",
      "display_name": "Python 3"
    },
    "language_info": {
      "name": "python"
    }
  },
  "cells": [
    {
      "cell_type": "markdown",
      "metadata": {
        "id": "view-in-github",
        "colab_type": "text"
      },
      "source": [
        "<a href=\"https://colab.research.google.com/github/jeniferGoncalvesDaSilvaDev/Econometria-aulas/blob/main/analise_econometria_minecraft.ipynb\" target=\"_parent\"><img src=\"https://colab.research.google.com/assets/colab-badge.svg\" alt=\"Open In Colab\"/></a>"
      ]
    },
    {
      "cell_type": "code",
      "execution_count": 67,
      "metadata": {
        "id": "gcmMP3BT_fk8"
      },
      "outputs": [],
      "source": [
        "import pandas as pd\n",
        "import matplotlib.pyplot as plt\n",
        "import numpy as np"
      ]
    },
    {
      "cell_type": "code",
      "source": [
        "df = pd.read_csv(\"/content/drive/MyDrive/Econometria /piracydataset.csv\")"
      ],
      "metadata": {
        "id": "U7us_5PSBvoo"
      },
      "execution_count": 64,
      "outputs": []
    },
    {
      "cell_type": "code",
      "source": [
        "print(df.head(4))"
      ],
      "metadata": {
        "colab": {
          "base_uri": "https://localhost:8080/"
        },
        "id": "CpwzKvnPB8Lt",
        "outputId": "f38c8172-31d8-48ef-d418-eeb0ad1e952c"
      },
      "execution_count": null,
      "outputs": [
        {
          "output_type": "stream",
          "name": "stdout",
          "text": [
            "   Unnamed: 0   age         discordid      minecraftid  \\\n",
            "0           0  14.0  ProGamer300#3331     ProGamer300    \n",
            "1           1  19.0       @shrey#4934      shrey_jain_   \n",
            "2           2  18.0   Skullfaced#8657  Skullfaceddeath   \n",
            "3           3  17.0  Op DzGhOsT#8719      DzGHoST1737    \n",
            "\n",
            "                      client       version  \n",
            "0  Computer ( Java Edition )       Cracked  \n",
            "1  Computer ( Java Edition )       Cracked  \n",
            "2  Computer ( Java Edition )  Paid Version  \n",
            "3  Computer ( Java Edition )       Cracked  \n"
          ]
        }
      ]
    },
    {
      "cell_type": "code",
      "source": [
        "df.columns"
      ],
      "metadata": {
        "colab": {
          "base_uri": "https://localhost:8080/"
        },
        "id": "d5-eKVKoCprr",
        "outputId": "70240a2f-dd88-4bd3-9d91-912d92f74f5d"
      },
      "execution_count": null,
      "outputs": [
        {
          "output_type": "execute_result",
          "data": {
            "text/plain": [
              "Index(['Unnamed: 0', 'age', 'discordid', 'minecraftid', 'client', 'version'], dtype='object')"
            ]
          },
          "metadata": {},
          "execution_count": 4
        }
      ]
    },
    {
      "cell_type": "code",
      "source": [
        "print(df.isnull().sum())"
      ],
      "metadata": {
        "colab": {
          "base_uri": "https://localhost:8080/"
        },
        "id": "RNQxUgh3CxRw",
        "outputId": "ee42788a-5f17-4915-9a4a-39a40e8544eb"
      },
      "execution_count": null,
      "outputs": [
        {
          "output_type": "stream",
          "name": "stdout",
          "text": [
            "Unnamed: 0     0\n",
            "age            1\n",
            "discordid      0\n",
            "minecraftid    0\n",
            "client         0\n",
            "version        0\n",
            "dtype: int64\n"
          ]
        }
      ]
    },
    {
      "cell_type": "code",
      "source": [
        "age = df['age']\n",
        "print(age)"
      ],
      "metadata": {
        "id": "0UfYSXLODF5c",
        "outputId": "cb132cc8-d83c-4142-f6b1-93053b615ff3",
        "colab": {
          "base_uri": "https://localhost:8080/"
        }
      },
      "execution_count": 65,
      "outputs": [
        {
          "output_type": "stream",
          "name": "stdout",
          "text": [
            "0       14.0\n",
            "1       19.0\n",
            "2       18.0\n",
            "3       17.0\n",
            "4       15.0\n",
            "        ... \n",
            "1418    17.0\n",
            "1419    15.0\n",
            "1420    17.0\n",
            "1421    15.0\n",
            "1422    14.0\n",
            "Name: age, Length: 1423, dtype: float64\n"
          ]
        }
      ]
    },
    {
      "cell_type": "code",
      "source": [
        "plt.hist(age, bins=6)"
      ],
      "metadata": {
        "id": "rDwa66weECEM",
        "outputId": "49046c99-2ab3-4836-dc6f-c7723fa3e25d",
        "colab": {
          "base_uri": "https://localhost:8080/",
          "height": 328
        }
      },
      "execution_count": null,
      "outputs": [
        {
          "output_type": "execute_result",
          "data": {
            "text/plain": [
              "(array([  27.,  201., 1070.,  114.,    4.,    6.]),\n",
              " array([ 1.,  8., 15., 22., 29., 36., 43.]),\n",
              " <BarContainer object of 6 artists>)"
            ]
          },
          "metadata": {},
          "execution_count": 53
        },
        {
          "output_type": "display_data",
          "data": {
            "text/plain": [
              "<Figure size 640x480 with 1 Axes>"
            ],
            "image/png": "[encoded data removed]"
          },
          "metadata": {}
        }
      ]
    },
    {
      "cell_type": "code",
      "source": [
        "version = df['version']\n",
        "print(version)"
      ],
      "metadata": {
        "id": "8nObkR8VI9Mh",
        "outputId": "b41c3cb7-b40e-463d-a413-956893bc2f6c",
        "colab": {
          "base_uri": "https://localhost:8080/"
        }
      },
      "execution_count": 66,
      "outputs": [
        {
          "output_type": "stream",
          "name": "stdout",
          "text": [
            "0            Cracked\n",
            "1            Cracked\n",
            "2       Paid Version\n",
            "3            Cracked\n",
            "4       Paid Version\n",
            "            ...     \n",
            "1418         Cracked\n",
            "1419         Cracked\n",
            "1420         Cracked\n",
            "1421         Cracked\n",
            "1422         Cracked\n",
            "Name: version, Length: 1423, dtype: object\n"
          ]
        }
      ]
    },
    {
      "cell_type": "code",
      "source": [
        "x = age.tolist()\n",
        "y = version.tolist()"
      ],
      "metadata": {
        "id": "xPuOf5sFFcol"
      },
      "execution_count": null,
      "outputs": []
    },
    {
      "cell_type": "code",
      "source": [
        "print(y)"
      ],
      "metadata": {
        "id": "Z_Vy4JiPFti2",
        "outputId": "a4a7880b-3fab-4bba-bb5a-78640ac9cc49",
        "colab": {
          "base_uri": "https://localhost:8080/"
        }
      },
      "execution_count": null,
      "outputs": [
        {
          "output_type": "stream",
          "name": "stdout",
          "text": [
            "['Cracked', 'Cracked', 'Paid Version', 'Cracked', 'Paid Version', 'Cracked', 'Cracked', 'Cracked', 'Paid Version', 'Cracked', 'Paid Version', 'Cracked', 'Cracked', 'Cracked', 'Cracked', 'Paid Version', 'Cracked', 'Paid Version', 'Cracked', 'Cracked', 'Paid Version', 'Cracked', 'Cracked', 'Paid Version', 'Cracked', 'Cracked', 'Cracked', 'Cracked', 'Paid Version', 'Paid Version', 'Paid Version', 'Cracked', 'Paid Version', 'Paid Version', 'Paid Version', 'Cracked', 'Cracked', 'Cracked', 'Cracked', 'Cracked', 'Cracked', 'Cracked', 'Cracked', 'Cracked', 'Paid Version', 'Paid Version', 'Cracked', 'Cracked', 'Cracked', 'Cracked', 'Cracked', 'Cracked', 'Cracked', 'Paid Version', 'Paid Version', 'Cracked', 'Cracked', 'Cracked', 'Cracked', 'Paid Version', 'Cracked', 'Cracked', 'Cracked', 'Cracked', 'Cracked', 'Cracked', 'Cracked', 'Cracked', 'Cracked', 'Cracked', 'Paid Version', 'Cracked', 'Cracked', 'Cracked', 'Paid Version', 'Paid Version', 'Cracked', 'Cracked', 'Cracked', 'Paid Version', 'Cracked', 'Paid Version', 'Cracked', 'Paid Version', 'Cracked', 'Cracked', 'Paid Version', 'Cracked', 'Cracked', 'Cracked', 'Cracked', 'Cracked', 'Cracked', 'Cracked', 'Cracked', 'Cracked', 'Paid Version', 'Cracked', 'Cracked', 'Cracked', 'Cracked', 'Cracked', 'Cracked', 'Cracked', 'Cracked', 'Cracked', 'Cracked', 'Cracked', 'Cracked', 'Cracked', 'Cracked', 'Cracked', 'Cracked', 'Paid Version', 'Cracked', 'Cracked', 'Cracked', 'Cracked', 'Cracked', 'Cracked', 'Cracked', 'Cracked', 'Cracked', 'Cracked', 'Cracked', 'Cracked', 'Paid Version', 'Cracked', 'Paid Version', 'Cracked', 'Paid Version', 'Cracked', 'Cracked', 'Cracked', 'Cracked', 'Cracked', 'Cracked', 'Paid Version', 'Cracked', 'Cracked', 'Paid Version', 'Cracked', 'Cracked', 'Paid Version', 'Cracked', 'Cracked', 'Cracked', 'Cracked', 'Cracked', 'Cracked', 'Paid Version', 'Cracked', 'Cracked', 'Cracked', 'Cracked', 'Cracked', 'Cracked', 'Paid Version', 'Cracked', 'Paid Version', 'Cracked', 'Cracked', 'Cracked', 'Paid Version', 'Cracked', 'Cracked', 'Paid Version', 'Cracked', 'Cracked', 'Cracked', 'Cracked', 'Cracked', 'Paid Version', 'Cracked', 'Cracked', 'Cracked', 'Cracked', 'Cracked', 'Cracked', 'Cracked', 'Cracked', 'Paid Version', 'Cracked', 'Paid Version', 'Cracked', 'Paid Version', 'Cracked', 'Cracked', 'Cracked', 'Cracked', 'Cracked', 'Paid Version', 'Cracked', 'Cracked', 'Cracked', 'Cracked', 'Paid Version', 'Cracked', 'Cracked', 'Cracked', 'Cracked', 'Cracked', 'Cracked', 'Cracked', 'Cracked', 'Cracked', 'Paid Version', 'Cracked', 'Cracked', 'Cracked', 'Cracked', 'Cracked', 'Cracked', 'Cracked', 'Paid Version', 'Cracked', 'Cracked', 'Cracked', 'Cracked', 'Cracked', 'Paid Version', 'Cracked', 'Cracked', 'Cracked', 'Cracked', 'Cracked', 'Paid Version', 'Cracked', 'Cracked', 'Cracked', 'Cracked', 'Cracked', 'Cracked', 'Paid Version', 'Cracked', 'Cracked', 'Cracked', 'Cracked', 'Cracked', 'Paid Version', 'Cracked', 'Cracked', 'Cracked', 'Cracked', 'Cracked', 'Cracked', 'Cracked', 'Cracked', 'Cracked', 'Cracked', 'Cracked', 'Cracked', 'Cracked', 'Cracked', 'Cracked', 'Paid Version', 'Cracked', 'Cracked', 'Cracked', 'Paid Version', 'Paid Version', 'Cracked', 'Cracked', 'Paid Version', 'Paid Version', 'Paid Version', 'Cracked', 'Cracked', 'Cracked', 'Cracked', 'Cracked', 'Cracked', 'Paid Version', 'Cracked', 'Cracked', 'Cracked', 'Paid Version', 'Paid Version', 'Cracked', 'Cracked', 'Cracked', 'Cracked', 'Cracked', 'Cracked', 'Paid Version', 'Cracked', 'Cracked', 'Paid Version', 'Paid Version', 'Cracked', 'Paid Version', 'Cracked', 'Cracked', 'Paid Version', 'Cracked', 'Paid Version', 'Cracked', 'Cracked', 'Cracked', 'Cracked', 'Cracked', 'Cracked', 'Cracked', 'Cracked', 'Cracked', 'Cracked', 'Cracked', 'Cracked', 'Cracked', 'Cracked', 'Cracked', 'Paid Version', 'Cracked', 'Cracked', 'Cracked', 'Cracked', 'Cracked', 'Cracked', 'Cracked', 'Cracked', 'Paid Version', 'Cracked', 'Cracked', 'Cracked', 'Cracked', 'Cracked', 'Cracked', 'Paid Version', 'Cracked', 'Cracked', 'Cracked', 'Cracked', 'Cracked', 'Cracked', 'Cracked', 'Cracked', 'Cracked', 'Cracked', 'Cracked', 'Cracked', 'Cracked', 'Cracked', 'Cracked', 'Cracked', 'Cracked', 'Cracked', 'Cracked', 'Cracked', 'Cracked', 'Cracked', 'Cracked', 'Paid Version', 'Paid Version', 'Cracked', 'Cracked', 'Paid Version', 'Cracked', 'Cracked', 'Cracked', 'Cracked', 'Cracked', 'Paid Version', 'Cracked', 'Cracked', 'Paid Version', 'Cracked', 'Cracked', 'Paid Version', 'Cracked', 'Cracked', 'Cracked', 'Cracked', 'Cracked', 'Cracked', 'Cracked', 'Cracked', 'Cracked', 'Paid Version', 'Cracked', 'Cracked', 'Cracked', 'Cracked', 'Paid Version', 'Cracked', 'Paid Version', 'Cracked', 'Paid Version', 'Cracked', 'Cracked', 'Paid Version', 'Cracked', 'Cracked', 'Cracked', 'Cracked', 'Cracked', 'Cracked', 'Cracked', 'Paid Version', 'Cracked', 'Cracked', 'Cracked', 'Cracked', 'Cracked', 'Cracked', 'Cracked', 'Cracked', 'Cracked', 'Cracked', 'Cracked', 'Cracked', 'Cracked', 'Cracked', 'Cracked', 'Cracked', 'Cracked', 'Cracked', 'Paid Version', 'Cracked', 'Cracked', 'Cracked', 'Paid Version', 'Cracked', 'Cracked', 'Cracked', 'Paid Version', 'Cracked', 'Paid Version', 'Cracked', 'Cracked', 'Cracked', 'Cracked', 'Cracked', 'Paid Version', 'Cracked', 'Cracked', 'Cracked', 'Cracked', 'Cracked', 'Cracked', 'Cracked', 'Cracked', 'Paid Version', 'Cracked', 'Cracked', 'Cracked', 'Cracked', 'Cracked', 'Paid Version', 'Cracked', 'Cracked', 'Cracked', 'Cracked', 'Cracked', 'Cracked', 'Cracked', 'Cracked', 'Cracked', 'Cracked', 'Cracked', 'Cracked', 'Cracked', 'Cracked', 'Paid Version', 'Cracked', 'Paid Version', 'Cracked', 'Cracked', 'Cracked', 'Cracked', 'Cracked', 'Cracked', 'Cracked', 'Cracked', 'Cracked', 'Cracked', 'Cracked', 'Cracked', 'Cracked', 'Cracked', 'Cracked', 'Paid Version', 'Cracked', 'Paid Version', 'Paid Version', 'Cracked', 'Paid Version', 'Cracked', 'Cracked', 'Cracked', 'Cracked', 'Cracked', 'Cracked', 'Cracked', 'Cracked', 'Cracked', 'Paid Version', 'Cracked', 'Cracked', 'Cracked', 'Cracked', 'Cracked', 'Cracked', 'Cracked', 'Cracked', 'Cracked', 'Cracked', 'Cracked', 'Cracked', 'Cracked', 'Cracked', 'Cracked', 'Cracked', 'Paid Version', 'Paid Version', 'Cracked', 'Cracked', 'Cracked', 'Paid Version', 'Paid Version', 'Paid Version', 'Paid Version', 'Cracked', 'Cracked', 'Cracked', 'Cracked', 'Cracked', 'Cracked', 'Cracked', 'Cracked', 'Cracked', 'Cracked', 'Cracked', 'Paid Version', 'Cracked', 'Cracked', 'Cracked', 'Paid Version', 'Cracked', 'Cracked', 'Cracked', 'Cracked', 'Paid Version', 'Cracked', 'Paid Version', 'Cracked', 'Cracked', 'Cracked', 'Paid Version', 'Cracked', 'Cracked', 'Paid Version', 'Cracked', 'Cracked', 'Cracked', 'Cracked', 'Cracked', 'Cracked', 'Cracked', 'Cracked', 'Cracked', 'Cracked', 'Cracked', 'Cracked', 'Paid Version', 'Paid Version', 'Cracked', 'Paid Version', 'Cracked', 'Cracked', 'Cracked', 'Cracked', 'Cracked', 'Cracked', 'Paid Version', 'Cracked', 'Cracked', 'Cracked', 'Paid Version', 'Cracked', 'Cracked', 'Cracked', 'Cracked', 'Cracked', 'Paid Version', 'Cracked', 'Cracked', 'Cracked', 'Paid Version', 'Paid Version', 'Cracked', 'Cracked', 'Cracked', 'Cracked', 'Cracked', 'Cracked', 'Paid Version', 'Cracked', 'Paid Version', 'Paid Version', 'Cracked', 'Cracked', 'Cracked', 'Cracked', 'Cracked', 'Cracked', 'Paid Version', 'Cracked', 'Cracked', 'Paid Version', 'Cracked', 'Cracked', 'Cracked', 'Cracked', 'Cracked', 'Cracked', 'Paid Version', 'Paid Version', 'Cracked', 'Cracked', 'Paid Version', 'Cracked', 'Cracked', 'Cracked', 'Cracked', 'Paid Version', 'Cracked', 'Cracked', 'Paid Version', 'Paid Version', 'Paid Version', 'Cracked', 'Paid Version', 'Cracked', 'Cracked', 'Paid Version', 'Cracked', 'Paid Version', 'Cracked', 'Cracked', 'Paid Version', 'Paid Version', 'Cracked', 'Cracked', 'Paid Version', 'Cracked', 'Cracked', 'Paid Version', 'Cracked', 'Cracked', 'Cracked', 'Cracked', 'Cracked', 'Cracked', 'Cracked', 'Paid Version', 'Cracked', 'Cracked', 'Cracked', 'Cracked', 'Cracked', 'Cracked', 'Cracked', 'Cracked', 'Paid Version', 'Paid Version', 'Cracked', 'Cracked', 'Cracked', 'Cracked', 'Cracked', 'Cracked', 'Cracked', 'Cracked', 'Paid Version', 'Cracked', 'Cracked', 'Cracked', 'Cracked', 'Cracked', 'Cracked', 'Cracked', 'Paid Version', 'Cracked', 'Cracked', 'Cracked', 'Cracked', 'Paid Version', 'Cracked', 'Cracked', 'Cracked', 'Cracked', 'Paid Version', 'Cracked', 'Cracked', 'Paid Version', 'Cracked', 'Cracked', 'Cracked', 'Cracked', 'Cracked', 'Paid Version', 'Paid Version', 'Cracked', 'Cracked', 'Cracked', 'Cracked', 'Cracked', 'Cracked', 'Cracked', 'Cracked', 'Cracked', 'Paid Version', 'Paid Version', 'Cracked', 'Cracked', 'Cracked', 'Paid Version', 'Cracked', 'Cracked', 'Paid Version', 'Cracked', 'Cracked', 'Cracked', 'Cracked', 'Cracked', 'Paid Version', 'Cracked', 'Cracked', 'Cracked', 'Paid Version', 'Cracked', 'Cracked', 'Cracked', 'Cracked', 'Paid Version', 'Cracked', 'Cracked', 'Paid Version', 'Paid Version', 'Cracked', 'Cracked', 'Cracked', 'Cracked', 'Cracked', 'Cracked', 'Cracked', 'Cracked', 'Cracked', 'Cracked', 'Cracked', 'Cracked', 'Paid Version', 'Cracked', 'Paid Version', 'Cracked', 'Paid Version', 'Cracked', 'Paid Version', 'Paid Version', 'Cracked', 'Cracked', 'Paid Version', 'Cracked', 'Cracked', 'Cracked', 'Cracked', 'Cracked', 'Cracked', 'Cracked', 'Cracked', 'Cracked', 'Cracked', 'Cracked', 'Cracked', 'Cracked', 'Paid Version', 'Cracked', 'Cracked', 'Cracked', 'Cracked', 'Cracked', 'Paid Version', 'Cracked', 'Cracked', 'Cracked', 'Cracked', 'Paid Version', 'Cracked', 'Cracked', 'Paid Version', 'Cracked', 'Cracked', 'Cracked', 'Paid Version', 'Cracked', 'Cracked', 'Cracked', 'Cracked', 'Paid Version', 'Cracked', 'Cracked', 'Cracked', 'Cracked', 'Cracked', 'Cracked', 'Cracked', 'Cracked', 'Cracked', 'Cracked', 'Cracked', 'Paid Version', 'Cracked', 'Cracked', 'Cracked', 'Cracked', 'Paid Version', 'Paid Version', 'Cracked', 'Cracked', 'Paid Version', 'Cracked', 'Paid Version', 'Cracked', 'Paid Version', 'Paid Version', 'Cracked', 'Cracked', 'Paid Version', 'Cracked', 'Cracked', 'Paid Version', 'Paid Version', 'Cracked', 'Cracked', 'Cracked', 'Cracked', 'Paid Version', 'Cracked', 'Cracked', 'Cracked', 'Cracked', 'Cracked', 'Cracked', 'Cracked', 'Cracked', 'Cracked', 'Cracked', 'Paid Version', 'Cracked', 'Paid Version', 'Cracked', 'Cracked', 'Cracked', 'Cracked', 'Cracked', 'Cracked', 'Cracked', 'Cracked', 'Cracked', 'Cracked', 'Paid Version', 'Paid Version', 'Cracked', 'Cracked', 'Cracked', 'Cracked', 'Cracked', 'Cracked', 'Cracked', 'Cracked', 'Paid Version', 'Paid Version', 'Paid Version', 'Cracked', 'Cracked', 'Cracked', 'Cracked', 'Cracked', 'Cracked', 'Paid Version', 'Cracked', 'Paid Version', 'Cracked', 'Cracked', 'Cracked', 'Cracked', 'Cracked', 'Cracked', 'Cracked', 'Cracked', 'Cracked', 'Paid Version', 'Cracked', 'Cracked', 'Cracked', 'Cracked', 'Cracked', 'Cracked', 'Cracked', 'Cracked', 'Cracked', 'Cracked', 'Cracked', 'Paid Version', 'Cracked', 'Cracked', 'Cracked', 'Cracked', 'Cracked', 'Cracked', 'Cracked', 'Cracked', 'Cracked', 'Paid Version', 'Cracked', 'Cracked', 'Paid Version', 'Paid Version', 'Paid Version', 'Cracked', 'Cracked', 'Cracked', 'Cracked', 'Cracked', 'Cracked', 'Paid Version', 'Cracked', 'Cracked', 'Cracked', 'Cracked', 'Cracked', 'Cracked', 'Cracked', 'Cracked', 'Cracked', 'Cracked', 'Paid Version', 'Cracked', 'Cracked', 'Paid Version', 'Cracked', 'Cracked', 'Cracked', 'Cracked', 'Cracked', 'Paid Version', 'Cracked', 'Paid Version', 'Cracked', 'Cracked', 'Cracked', 'Cracked', 'Paid Version', 'Cracked', 'Cracked', 'Cracked', 'Cracked', 'Cracked', 'Cracked', 'Paid Version', 'Cracked', 'Cracked', 'Cracked', 'Cracked', 'Cracked', 'Cracked', 'Cracked', 'Paid Version', 'Cracked', 'Cracked', 'Cracked', 'Paid Version', 'Cracked', 'Cracked', 'Cracked', 'Cracked', 'Cracked', 'Paid Version', 'Cracked', 'Cracked', 'Cracked', 'Paid Version', 'Cracked', 'Cracked', 'Cracked', 'Cracked', 'Cracked', 'Cracked', 'Cracked', 'Cracked', 'Cracked', 'Cracked', 'Cracked', 'Cracked', 'Cracked', 'Cracked', 'Cracked', 'Cracked', 'Paid Version', 'Cracked', 'Cracked', 'Cracked', 'Cracked', 'Cracked', 'Cracked', 'Cracked', 'Cracked', 'Cracked', 'Cracked', 'Cracked', 'Cracked', 'Cracked', 'Cracked', 'Paid Version', 'Cracked', 'Paid Version', 'Cracked', 'Cracked', 'Cracked', 'Cracked', 'Paid Version', 'Cracked', 'Paid Version', 'Cracked', 'Cracked', 'Cracked', 'Paid Version', 'Cracked', 'Cracked', 'Cracked', 'Cracked', 'Cracked', 'Cracked', 'Cracked', 'Cracked', 'Cracked', 'Cracked', 'Cracked', 'Cracked', 'Cracked', 'Paid Version', 'Cracked', 'Cracked', 'Cracked', 'Cracked', 'Cracked', 'Cracked', 'Paid Version', 'Cracked', 'Paid Version', 'Cracked', 'Cracked', 'Cracked', 'Cracked', 'Paid Version', 'Cracked', 'Cracked', 'Cracked', 'Paid Version', 'Cracked', 'Cracked', 'Cracked', 'Cracked', 'Paid Version', 'Cracked', 'Cracked', 'Cracked', 'Cracked', 'Cracked', 'Cracked', 'Paid Version', 'Paid Version', 'Cracked', 'Cracked', 'Paid Version', 'Paid Version', 'Cracked', 'Cracked', 'Cracked', 'Cracked', 'Cracked', 'Cracked', 'Cracked', 'Cracked', 'Paid Version', 'Cracked', 'Cracked', 'Cracked', 'Cracked', 'Cracked', 'Cracked', 'Cracked', 'Cracked', 'Cracked', 'Cracked', 'Paid Version', 'Paid Version', 'Cracked', 'Cracked', 'Cracked', 'Cracked', 'Cracked', 'Cracked', 'Cracked', 'Cracked', 'Cracked', 'Cracked', 'Cracked', 'Paid Version', 'Cracked', 'Cracked', 'Cracked', 'Cracked', 'Paid Version', 'Cracked', 'Paid Version', 'Cracked', 'Cracked', 'Cracked', 'Cracked', 'Paid Version', 'Cracked', 'Cracked', 'Paid Version', 'Paid Version', 'Cracked', 'Cracked', 'Cracked', 'Cracked', 'Cracked', 'Cracked', 'Paid Version', 'Cracked', 'Cracked', 'Cracked', 'Cracked', 'Cracked', 'Cracked', 'Cracked', 'Cracked', 'Cracked', 'Paid Version', 'Cracked', 'Cracked', 'Cracked', 'Cracked', 'Cracked', 'Cracked', 'Cracked', 'Paid Version', 'Cracked', 'Cracked', 'Cracked', 'Cracked', 'Cracked', 'Cracked', 'Cracked', 'Cracked', 'Cracked', 'Cracked', 'Cracked', 'Cracked', 'Cracked', 'Paid Version', 'Cracked', 'Cracked', 'Cracked', 'Cracked', 'Cracked', 'Cracked', 'Cracked', 'Paid Version', 'Cracked', 'Cracked', 'Cracked', 'Cracked', 'Cracked', 'Cracked', 'Cracked', 'Paid Version', 'Cracked', 'Paid Version', 'Cracked', 'Cracked', 'Cracked', 'Cracked', 'Cracked', 'Paid Version', 'Cracked', 'Cracked', 'Cracked', 'Cracked', 'Paid Version', 'Cracked', 'Cracked', 'Cracked', 'Cracked', 'Cracked', 'Cracked', 'Cracked', 'Cracked', 'Cracked', 'Paid Version', 'Cracked', 'Paid Version', 'Cracked', 'Cracked', 'Cracked', 'Cracked', 'Cracked', 'Paid Version', 'Cracked', 'Cracked', 'Cracked', 'Cracked', 'Cracked', 'Cracked', 'Cracked', 'Cracked', 'Cracked', 'Cracked', 'Cracked', 'Cracked', 'Cracked', 'Cracked', 'Cracked', 'Paid Version', 'Cracked', 'Cracked', 'Cracked', 'Cracked', 'Cracked', 'Cracked', 'Cracked', 'Cracked', 'Cracked', 'Paid Version', 'Cracked', 'Cracked', 'Cracked', 'Cracked', 'Cracked', 'Paid Version', 'Cracked', 'Cracked', 'Cracked', 'Cracked', 'Cracked', 'Cracked', 'Cracked', 'Cracked', 'Cracked', 'Cracked', 'Cracked', 'Cracked', 'Cracked', 'Paid Version', 'Cracked', 'Cracked', 'Cracked', 'Cracked', 'Paid Version', 'Cracked', 'Cracked', 'Cracked', 'Cracked', 'Cracked', 'Cracked', 'Cracked', 'Cracked', 'Paid Version', 'Cracked', 'Cracked', 'Cracked', 'Cracked', 'Paid Version', 'Cracked', 'Cracked', 'Cracked', 'Cracked', 'Cracked', 'Cracked', 'Cracked', 'Cracked', 'Cracked', 'Cracked', 'Cracked', 'Cracked', 'Cracked', 'Paid Version', 'Cracked', 'Cracked', 'Cracked', 'Cracked', 'Cracked', 'Cracked', 'Cracked', 'Cracked', 'Cracked', 'Cracked', 'Cracked', 'Cracked', 'Cracked', 'Cracked', 'Paid Version', 'Cracked', 'Cracked', 'Cracked', 'Cracked', 'Cracked', 'Cracked', 'Cracked', 'Cracked', 'Cracked', 'Cracked', 'Cracked', 'Cracked', 'Cracked', 'Cracked', 'Cracked', 'Cracked', 'Paid Version', 'Cracked', 'Cracked', 'Cracked', 'Cracked', 'Cracked', 'Paid Version', 'Cracked', 'Cracked', 'Cracked', 'Cracked', 'Cracked', 'Cracked', 'Cracked', 'Paid Version', 'Cracked', 'Cracked', 'Paid Version', 'Cracked', 'Cracked', 'Cracked', 'Cracked', 'Cracked', 'Cracked', 'Cracked', 'Cracked', 'Paid Version', 'Cracked', 'Paid Version', 'Cracked', 'Cracked', 'Cracked', 'Cracked', 'Paid Version', 'Cracked', 'Cracked', 'Cracked', 'Cracked', 'Cracked', 'Cracked', 'Cracked', 'Cracked', 'Cracked', 'Cracked', 'Cracked', 'Paid Version', 'Cracked', 'Cracked', 'Paid Version', 'Cracked', 'Cracked', 'Cracked', 'Cracked', 'Paid Version', 'Paid Version', 'Cracked', 'Cracked', 'Cracked', 'Cracked', 'Paid Version', 'Paid Version', 'Cracked', 'Cracked', 'Cracked', 'Cracked', 'Cracked', 'Cracked', 'Cracked', 'Paid Version', 'Cracked', 'Paid Version', 'Cracked', 'Cracked', 'Cracked', 'Cracked', 'Paid Version', 'Cracked', 'Paid Version', 'Paid Version', 'Cracked', 'Cracked', 'Cracked', 'Cracked', 'Cracked', 'Cracked', 'Cracked', 'Cracked', 'Cracked', 'Cracked', 'Cracked', 'Cracked', 'Paid Version', 'Cracked', 'Cracked', 'Cracked', 'Cracked', 'Cracked', 'Cracked', 'Cracked', 'Cracked', 'Cracked', 'Cracked']\n"
          ]
        }
      ]
    },
    {
      "cell_type": "code",
      "source": [
        "from sklearn.preprocessing import LabelEncoder\n",
        "\n",
        "\n",
        "\n",
        "# Instanciando o LabelEncoder\n",
        "label_encoder = LabelEncoder()\n",
        "\n",
        "# Codificando os dados\n",
        "encoded_data = label_encoder.fit_transform(version)\n",
        "\n",
        "print(encoded_data)\n",
        "print(type(encoded_data))"
      ],
      "metadata": {
        "id": "sJx7M01cHGi5",
        "outputId": "00bd128f-cc24-482e-f848-7f80733937f9",
        "colab": {
          "base_uri": "https://localhost:8080/"
        }
      },
      "execution_count": null,
      "outputs": [
        {
          "output_type": "stream",
          "name": "stdout",
          "text": [
            "[0 0 1 ... 0 0 0]\n",
            "<class 'numpy.ndarray'>\n"
          ]
        }
      ]
    },
    {
      "cell_type": "code",
      "source": [
        "new_y= encoded_data.tolist()\n",
        "print(new_y)"
      ],
      "metadata": {
        "id": "kNJlceq4Herp",
        "outputId": "24b8f3d8-a595-4640-8469-d991aa67d081",
        "colab": {
          "base_uri": "https://localhost:8080/"
        }
      },
      "execution_count": null,
      "outputs": [
        {
          "output_type": "stream",
          "name": "stdout",
          "text": [
            "[0, 0, 1, 0, 1, 0, 0, 0, 1, 0, 1, 0, 0, 0, 0, 1, 0, 1, 0, 0, 1, 0, 0, 1, 0, 0, 0, 0, 1, 1, 1, 0, 1, 1, 1, 0, 0, 0, 0, 0, 0, 0, 0, 0, 1, 1, 0, 0, 0, 0, 0, 0, 0, 1, 1, 0, 0, 0, 0, 1, 0, 0, 0, 0, 0, 0, 0, 0, 0, 0, 1, 0, 0, 0, 1, 1, 0, 0, 0, 1, 0, 1, 0, 1, 0, 0, 1, 0, 0, 0, 0, 0, 0, 0, 0, 0, 1, 0, 0, 0, 0, 0, 0, 0, 0, 0, 0, 0, 0, 0, 0, 0, 0, 1, 0, 0, 0, 0, 0, 0, 0, 0, 0, 0, 0, 0, 1, 0, 1, 0, 1, 0, 0, 0, 0, 0, 0, 1, 0, 0, 1, 0, 0, 1, 0, 0, 0, 0, 0, 0, 1, 0, 0, 0, 0, 0, 0, 1, 0, 1, 0, 0, 0, 1, 0, 0, 1, 0, 0, 0, 0, 0, 1, 0, 0, 0, 0, 0, 0, 0, 0, 1, 0, 1, 0, 1, 0, 0, 0, 0, 0, 1, 0, 0, 0, 0, 1, 0, 0, 0, 0, 0, 0, 0, 0, 0, 1, 0, 0, 0, 0, 0, 0, 0, 1, 0, 0, 0, 0, 0, 1, 0, 0, 0, 0, 0, 1, 0, 0, 0, 0, 0, 0, 1, 0, 0, 0, 0, 0, 1, 0, 0, 0, 0, 0, 0, 0, 0, 0, 0, 0, 0, 0, 0, 0, 1, 0, 0, 0, 1, 1, 0, 0, 1, 1, 1, 0, 0, 0, 0, 0, 0, 1, 0, 0, 0, 1, 1, 0, 0, 0, 0, 0, 0, 1, 0, 0, 1, 1, 0, 1, 0, 0, 1, 0, 1, 0, 0, 0, 0, 0, 0, 0, 0, 0, 0, 0, 0, 0, 0, 0, 1, 0, 0, 0, 0, 0, 0, 0, 0, 1, 0, 0, 0, 0, 0, 0, 1, 0, 0, 0, 0, 0, 0, 0, 0, 0, 0, 0, 0, 0, 0, 0, 0, 0, 0, 0, 0, 0, 0, 0, 1, 1, 0, 0, 1, 0, 0, 0, 0, 0, 1, 0, 0, 1, 0, 0, 1, 0, 0, 0, 0, 0, 0, 0, 0, 0, 1, 0, 0, 0, 0, 1, 0, 1, 0, 1, 0, 0, 1, 0, 0, 0, 0, 0, 0, 0, 1, 0, 0, 0, 0, 0, 0, 0, 0, 0, 0, 0, 0, 0, 0, 0, 0, 0, 0, 1, 0, 0, 0, 1, 0, 0, 0, 1, 0, 1, 0, 0, 0, 0, 0, 1, 0, 0, 0, 0, 0, 0, 0, 0, 1, 0, 0, 0, 0, 0, 1, 0, 0, 0, 0, 0, 0, 0, 0, 0, 0, 0, 0, 0, 0, 1, 0, 1, 0, 0, 0, 0, 0, 0, 0, 0, 0, 0, 0, 0, 0, 0, 0, 1, 0, 1, 1, 0, 1, 0, 0, 0, 0, 0, 0, 0, 0, 0, 1, 0, 0, 0, 0, 0, 0, 0, 0, 0, 0, 0, 0, 0, 0, 0, 0, 1, 1, 0, 0, 0, 1, 1, 1, 1, 0, 0, 0, 0, 0, 0, 0, 0, 0, 0, 0, 1, 0, 0, 0, 1, 0, 0, 0, 0, 1, 0, 1, 0, 0, 0, 1, 0, 0, 1, 0, 0, 0, 0, 0, 0, 0, 0, 0, 0, 0, 0, 1, 1, 0, 1, 0, 0, 0, 0, 0, 0, 1, 0, 0, 0, 1, 0, 0, 0, 0, 0, 1, 0, 0, 0, 1, 1, 0, 0, 0, 0, 0, 0, 1, 0, 1, 1, 0, 0, 0, 0, 0, 0, 1, 0, 0, 1, 0, 0, 0, 0, 0, 0, 1, 1, 0, 0, 1, 0, 0, 0, 0, 1, 0, 0, 1, 1, 1, 0, 1, 0, 0, 1, 0, 1, 0, 0, 1, 1, 0, 0, 1, 0, 0, 1, 0, 0, 0, 0, 0, 0, 0, 1, 0, 0, 0, 0, 0, 0, 0, 0, 1, 1, 0, 0, 0, 0, 0, 0, 0, 0, 1, 0, 0, 0, 0, 0, 0, 0, 1, 0, 0, 0, 0, 1, 0, 0, 0, 0, 1, 0, 0, 1, 0, 0, 0, 0, 0, 1, 1, 0, 0, 0, 0, 0, 0, 0, 0, 0, 1, 1, 0, 0, 0, 1, 0, 0, 1, 0, 0, 0, 0, 0, 1, 0, 0, 0, 1, 0, 0, 0, 0, 1, 0, 0, 1, 1, 0, 0, 0, 0, 0, 0, 0, 0, 0, 0, 0, 0, 1, 0, 1, 0, 1, 0, 1, 1, 0, 0, 1, 0, 0, 0, 0, 0, 0, 0, 0, 0, 0, 0, 0, 0, 1, 0, 0, 0, 0, 0, 1, 0, 0, 0, 0, 1, 0, 0, 1, 0, 0, 0, 1, 0, 0, 0, 0, 1, 0, 0, 0, 0, 0, 0, 0, 0, 0, 0, 0, 1, 0, 0, 0, 0, 1, 1, 0, 0, 1, 0, 1, 0, 1, 1, 0, 0, 1, 0, 0, 1, 1, 0, 0, 0, 0, 1, 0, 0, 0, 0, 0, 0, 0, 0, 0, 0, 1, 0, 1, 0, 0, 0, 0, 0, 0, 0, 0, 0, 0, 1, 1, 0, 0, 0, 0, 0, 0, 0, 0, 1, 1, 1, 0, 0, 0, 0, 0, 0, 1, 0, 1, 0, 0, 0, 0, 0, 0, 0, 0, 0, 1, 0, 0, 0, 0, 0, 0, 0, 0, 0, 0, 0, 1, 0, 0, 0, 0, 0, 0, 0, 0, 0, 1, 0, 0, 1, 1, 1, 0, 0, 0, 0, 0, 0, 1, 0, 0, 0, 0, 0, 0, 0, 0, 0, 0, 1, 0, 0, 1, 0, 0, 0, 0, 0, 1, 0, 1, 0, 0, 0, 0, 1, 0, 0, 0, 0, 0, 0, 1, 0, 0, 0, 0, 0, 0, 0, 1, 0, 0, 0, 1, 0, 0, 0, 0, 0, 1, 0, 0, 0, 1, 0, 0, 0, 0, 0, 0, 0, 0, 0, 0, 0, 0, 0, 0, 0, 0, 1, 0, 0, 0, 0, 0, 0, 0, 0, 0, 0, 0, 0, 0, 0, 1, 0, 1, 0, 0, 0, 0, 1, 0, 1, 0, 0, 0, 1, 0, 0, 0, 0, 0, 0, 0, 0, 0, 0, 0, 0, 0, 1, 0, 0, 0, 0, 0, 0, 1, 0, 1, 0, 0, 0, 0, 1, 0, 0, 0, 1, 0, 0, 0, 0, 1, 0, 0, 0, 0, 0, 0, 1, 1, 0, 0, 1, 1, 0, 0, 0, 0, 0, 0, 0, 0, 1, 0, 0, 0, 0, 0, 0, 0, 0, 0, 0, 1, 1, 0, 0, 0, 0, 0, 0, 0, 0, 0, 0, 0, 1, 0, 0, 0, 0, 1, 0, 1, 0, 0, 0, 0, 1, 0, 0, 1, 1, 0, 0, 0, 0, 0, 0, 1, 0, 0, 0, 0, 0, 0, 0, 0, 0, 1, 0, 0, 0, 0, 0, 0, 0, 1, 0, 0, 0, 0, 0, 0, 0, 0, 0, 0, 0, 0, 0, 1, 0, 0, 0, 0, 0, 0, 0, 1, 0, 0, 0, 0, 0, 0, 0, 1, 0, 1, 0, 0, 0, 0, 0, 1, 0, 0, 0, 0, 1, 0, 0, 0, 0, 0, 0, 0, 0, 0, 1, 0, 1, 0, 0, 0, 0, 0, 1, 0, 0, 0, 0, 0, 0, 0, 0, 0, 0, 0, 0, 0, 0, 0, 1, 0, 0, 0, 0, 0, 0, 0, 0, 0, 1, 0, 0, 0, 0, 0, 1, 0, 0, 0, 0, 0, 0, 0, 0, 0, 0, 0, 0, 0, 1, 0, 0, 0, 0, 1, 0, 0, 0, 0, 0, 0, 0, 0, 1, 0, 0, 0, 0, 1, 0, 0, 0, 0, 0, 0, 0, 0, 0, 0, 0, 0, 0, 1, 0, 0, 0, 0, 0, 0, 0, 0, 0, 0, 0, 0, 0, 0, 1, 0, 0, 0, 0, 0, 0, 0, 0, 0, 0, 0, 0, 0, 0, 0, 0, 1, 0, 0, 0, 0, 0, 1, 0, 0, 0, 0, 0, 0, 0, 1, 0, 0, 1, 0, 0, 0, 0, 0, 0, 0, 0, 1, 0, 1, 0, 0, 0, 0, 1, 0, 0, 0, 0, 0, 0, 0, 0, 0, 0, 0, 1, 0, 0, 1, 0, 0, 0, 0, 1, 1, 0, 0, 0, 0, 1, 1, 0, 0, 0, 0, 0, 0, 0, 1, 0, 1, 0, 0, 0, 0, 1, 0, 1, 1, 0, 0, 0, 0, 0, 0, 0, 0, 0, 0, 0, 0, 1, 0, 0, 0, 0, 0, 0, 0, 0, 0, 0]\n"
          ]
        }
      ]
    },
    {
      "cell_type": "code",
      "source": [
        "x_vezes_y = [ i * j for i,j in zip(x,new_y)]\n",
        "print(x_vezes_y)"
      ],
      "metadata": {
        "id": "mor6R67vMBIu",
        "outputId": "e6fd4472-a5ed-41bc-ac30-0c6b6a4ebf18",
        "colab": {
          "base_uri": "https://localhost:8080/"
        }
      },
      "execution_count": null,
      "outputs": [
        {
          "output_type": "stream",
          "name": "stdout",
          "text": [
            "[0.0, 0.0, 18.0, 0.0, 15.0, 0.0, 0.0, 0.0, 21.0, 0.0, 21.0, 0.0, 0.0, 0.0, 0.0, 17.0, 0.0, 18.0, 0.0, 0.0, 21.0, 0.0, 0.0, 20.0, 0.0, 0.0, 0.0, 0.0, 15.0, 16.0, 15.0, 0.0, 16.0, 15.0, 23.0, 0.0, 0.0, 0.0, 0.0, 0.0, 0.0, 0.0, 0.0, 0.0, 13.0, 17.0, 0.0, 0.0, 0.0, 0.0, 0.0, 0.0, 0.0, 16.0, 17.0, 0.0, 0.0, 0.0, 0.0, 18.0, 0.0, 0.0, 0.0, 0.0, 0.0, 0.0, 0.0, 0.0, 0.0, 0.0, 21.0, 0.0, 0.0, 0.0, 16.0, 16.0, 0.0, 0.0, 0.0, 19.0, 0.0, 14.0, 0.0, 22.0, 0.0, 0.0, 16.0, 0.0, 0.0, 0.0, 0.0, 0.0, 0.0, 0.0, 0.0, 0.0, 15.0, 0.0, 0.0, 0.0, 0.0, 0.0, 0.0, 0.0, 0.0, 0.0, 0.0, 0.0, 0.0, 0.0, 0.0, 0.0, 0.0, 18.0, 0.0, 0.0, 0.0, 0.0, 0.0, 0.0, 0.0, 0.0, 0.0, 0.0, 0.0, 0.0, 18.0, 0.0, 15.0, 0.0, 14.0, 0.0, 0.0, 0.0, 0.0, 0.0, 0.0, 17.0, 0.0, 0.0, 16.0, 0.0, 0.0, 15.0, 0.0, 0.0, 0.0, 0.0, 0.0, 0.0, 15.0, 0.0, 0.0, 0.0, 0.0, 0.0, 0.0, 14.0, 0.0, 18.0, 0.0, 0.0, 0.0, 16.0, 0.0, 0.0, 15.0, 0.0, 0.0, 0.0, 0.0, 0.0, 23.0, 0.0, 0.0, 0.0, 0.0, 0.0, 0.0, 0.0, 0.0, 1.0, 0.0, 15.0, 0.0, 15.0, 0.0, 0.0, 0.0, 0.0, 0.0, 14.0, 0.0, 0.0, 0.0, 0.0, 21.0, 0.0, 0.0, 0.0, 0.0, 0.0, 0.0, 0.0, 0.0, 0.0, 24.0, 0.0, 0.0, 0.0, 0.0, 0.0, 0.0, 0.0, 15.0, 0.0, 0.0, 0.0, 0.0, 0.0, 18.0, 0.0, 0.0, 0.0, 0.0, 0.0, 16.0, 0.0, 0.0, 0.0, 0.0, 0.0, 0.0, 16.0, 0.0, 0.0, 0.0, 0.0, 0.0, 17.0, 0.0, 0.0, 0.0, 0.0, 0.0, 0.0, 0.0, 0.0, 0.0, 0.0, 0.0, 0.0, 0.0, 0.0, 0.0, 16.0, 0.0, 0.0, 0.0, 19.0, 16.0, 0.0, 0.0, 19.0, 15.0, 17.0, 0.0, 0.0, 0.0, 0.0, 0.0, 0.0, 16.0, 0.0, 0.0, 0.0, 14.0, 14.0, 0.0, 0.0, 0.0, 0.0, 0.0, 0.0, 17.0, 0.0, 0.0, 15.0, 22.0, 0.0, 17.0, 0.0, 0.0, 19.0, 0.0, 16.0, 0.0, 0.0, 0.0, 0.0, 0.0, 0.0, 0.0, 0.0, 0.0, 0.0, 0.0, 0.0, 0.0, 0.0, 0.0, 18.0, 0.0, 0.0, 0.0, 0.0, 0.0, 0.0, 0.0, 0.0, 16.0, 0.0, 0.0, 0.0, 0.0, 0.0, 0.0, 18.0, 0.0, 0.0, 0.0, 0.0, 0.0, 0.0, 0.0, 0.0, 0.0, 0.0, 0.0, 0.0, 0.0, 0.0, 0.0, 0.0, 0.0, 0.0, 0.0, 0.0, 0.0, 0.0, 0.0, 18.0, 15.0, 0.0, 0.0, 22.0, 0.0, 0.0, 0.0, 0.0, 0.0, 19.0, 0.0, 0.0, 18.0, 0.0, 0.0, 15.0, 0.0, 0.0, 0.0, 0.0, 0.0, 0.0, 0.0, 0.0, 0.0, 16.0, 0.0, 0.0, 0.0, 0.0, 21.0, 0.0, 19.0, 0.0, 20.0, 0.0, 0.0, 16.0, 0.0, 0.0, 0.0, 0.0, 0.0, 0.0, 0.0, 21.0, 0.0, 0.0, 0.0, 0.0, 0.0, 0.0, 0.0, 0.0, 0.0, 0.0, 0.0, 0.0, 0.0, 0.0, 0.0, 0.0, 0.0, 0.0, 15.0, 0.0, 0.0, 0.0, 15.0, 0.0, 0.0, 0.0, 17.0, 0.0, 17.0, 0.0, 0.0, 0.0, 0.0, 0.0, 14.0, 0.0, 0.0, 0.0, 0.0, 0.0, 0.0, 0.0, 0.0, 22.0, 0.0, 0.0, 0.0, 0.0, 0.0, 24.0, 0.0, 0.0, 0.0, 0.0, 0.0, 0.0, 0.0, 0.0, 0.0, 0.0, 0.0, 0.0, 0.0, 0.0, 22.0, 0.0, 22.0, 0.0, 0.0, 0.0, 0.0, 0.0, 0.0, 0.0, 0.0, 0.0, 0.0, 0.0, 0.0, 0.0, 0.0, 0.0, 17.0, 0.0, 14.0, 22.0, 0.0, 17.0, 0.0, 0.0, 0.0, 0.0, 0.0, 0.0, 0.0, 0.0, 0.0, 22.0, 0.0, 0.0, 0.0, 0.0, 0.0, 0.0, 0.0, 0.0, 0.0, 0.0, 0.0, 0.0, 0.0, 0.0, 0.0, 0.0, 1.0, 15.0, 0.0, 0.0, 0.0, 18.0, 18.0, 18.0, 13.0, 0.0, 0.0, 0.0, 0.0, 0.0, 0.0, 0.0, 0.0, 0.0, 0.0, 0.0, 1.0, 0.0, 0.0, 0.0, 18.0, 0.0, 0.0, 0.0, 0.0, 18.0, 0.0, 15.0, 0.0, 0.0, 0.0, 16.0, 0.0, 0.0, 15.0, 0.0, 0.0, 0.0, 0.0, 0.0, 0.0, 0.0, 0.0, 0.0, 0.0, 0.0, 0.0, 15.0, 18.0, 0.0, 15.0, 0.0, 0.0, 0.0, 0.0, 0.0, 0.0, 14.0, 0.0, 0.0, 0.0, 16.0, 0.0, 0.0, 0.0, 0.0, 0.0, 15.0, 0.0, 0.0, 0.0, 18.0, 17.0, 0.0, 0.0, 0.0, 0.0, 0.0, 0.0, 18.0, 0.0, 19.0, 15.0, 0.0, 0.0, 0.0, 0.0, 0.0, 0.0, 1.0, 0.0, 0.0, 16.0, 0.0, 0.0, 0.0, 0.0, 0.0, 0.0, 16.0, 16.0, 0.0, 0.0, 17.0, 0.0, 0.0, 0.0, 0.0, 20.0, 0.0, 0.0, 16.0, 18.0, 18.0, 0.0, 15.0, 0.0, 0.0, 22.0, 0.0, 16.0, 0.0, 0.0, 22.0, 20.0, 0.0, 0.0, 14.0, 0.0, 0.0, 17.0, 0.0, 0.0, 0.0, 0.0, 0.0, 0.0, 0.0, 15.0, 0.0, 0.0, 0.0, 0.0, 0.0, 0.0, 0.0, 0.0, 16.0, 18.0, 0.0, 0.0, 0.0, 0.0, 0.0, 0.0, 0.0, 0.0, 16.0, 0.0, 0.0, 0.0, 0.0, 0.0, 0.0, 0.0, 17.0, 0.0, 0.0, 0.0, 0.0, 16.0, 0.0, 0.0, 0.0, 0.0, 22.0, 0.0, 0.0, 22.0, 0.0, 0.0, 0.0, 0.0, 0.0, 16.0, 18.0, 0.0, 0.0, 0.0, 0.0, 0.0, 0.0, 0.0, 0.0, 0.0, 16.0, 15.0, 0.0, 0.0, 0.0, 15.0, 0.0, 0.0, 16.0, 0.0, 0.0, 0.0, 0.0, 0.0, 15.0, 0.0, 0.0, 0.0, 15.0, 0.0, 0.0, 0.0, 0.0, 21.0, 0.0, 0.0, 17.0, 16.0, 0.0, 0.0, 0.0, 0.0, 0.0, 0.0, 0.0, 0.0, 0.0, 0.0, 0.0, 0.0, 16.0, 0.0, 14.0, 0.0, 17.0, 0.0, 17.0, 20.0, 0.0, 0.0, 27.0, 0.0, 0.0, 0.0, 0.0, 0.0, 0.0, 0.0, 0.0, 0.0, 0.0, 0.0, 0.0, 0.0, 19.0, 0.0, 0.0, 0.0, 0.0, 0.0, 20.0, 0.0, 0.0, 0.0, 0.0, 17.0, 0.0, 0.0, 16.0, 0.0, 0.0, 0.0, 16.0, 0.0, 0.0, 0.0, 0.0, 14.0, 0.0, 0.0, 0.0, 0.0, 0.0, 0.0, 0.0, 0.0, 0.0, 0.0, 0.0, 23.0, 0.0, 0.0, 0.0, 0.0, 15.0, 17.0, 0.0, 0.0, 15.0, 0.0, 21.0, 0.0, 17.0, 36.0, 0.0, 0.0, 17.0, 0.0, 0.0, 17.0, 13.0, 0.0, 0.0, 0.0, 0.0, 18.0, 0.0, 0.0, 0.0, 0.0, 0.0, 0.0, 0.0, 0.0, 0.0, 0.0, 17.0, 0.0, 17.0, 0.0, 0.0, 0.0, 0.0, 0.0, 0.0, 0.0, 0.0, 0.0, 0.0, 23.0, 14.0, 0.0, 0.0, 0.0, 0.0, 0.0, 0.0, 0.0, 0.0, 14.0, 16.0, 17.0, 0.0, 0.0, 0.0, 0.0, 0.0, 0.0, 16.0, 0.0, 12.0, 0.0, 0.0, 0.0, 0.0, 0.0, 0.0, 0.0, 0.0, 0.0, 21.0, 0.0, 0.0, 0.0, 0.0, 0.0, 0.0, 0.0, 0.0, 0.0, 0.0, 0.0, 16.0, 0.0, 0.0, 0.0, 0.0, 0.0, 0.0, 0.0, 0.0, 0.0, 19.0, 0.0, 0.0, 14.0, 16.0, 18.0, 0.0, 0.0, 0.0, 0.0, 0.0, 0.0, 16.0, 0.0, 0.0, 0.0, 0.0, 0.0, 0.0, 0.0, 0.0, 0.0, 0.0, 22.0, 0.0, 0.0, 17.0, 0.0, 0.0, 0.0, 0.0, 0.0, 15.0, 0.0, 14.0, 0.0, 0.0, 0.0, 0.0, 15.0, 0.0, 0.0, 0.0, 0.0, 0.0, 0.0, 19.0, 0.0, 0.0, 0.0, 0.0, 0.0, 0.0, 0.0, 18.0, 0.0, 0.0, 0.0, 18.0, 0.0, 0.0, 0.0, 0.0, 0.0, 18.0, 0.0, 0.0, 0.0, 17.0, 0.0, 0.0, 0.0, 0.0, 0.0, 0.0, 0.0, 0.0, 0.0, 0.0, 0.0, 0.0, 0.0, 0.0, 0.0, 0.0, 18.0, 0.0, 0.0, 0.0, 0.0, 0.0, 0.0, 0.0, 0.0, 0.0, 0.0, 0.0, 0.0, 0.0, 0.0, 17.0, 0.0, 18.0, 0.0, 0.0, 0.0, 0.0, 13.0, 0.0, 13.0, 0.0, 0.0, 0.0, 17.0, 0.0, 0.0, 0.0, 0.0, 0.0, 0.0, 0.0, 0.0, 0.0, 0.0, 0.0, 0.0, 0.0, 14.0, 0.0, 0.0, 0.0, 0.0, 0.0, 0.0, 20.0, 0.0, 18.0, 0.0, 0.0, 0.0, 0.0, 17.0, 0.0, 0.0, 0.0, 16.0, 0.0, 0.0, 0.0, 0.0, 1.0, 0.0, 0.0, 0.0, 0.0, 0.0, 0.0, 18.0, 18.0, 0.0, 0.0, 20.0, 14.0, 0.0, 0.0, 0.0, 0.0, 0.0, 0.0, 0.0, 0.0, 19.0, 0.0, 0.0, 0.0, 0.0, 0.0, 0.0, 0.0, 0.0, 0.0, 0.0, 17.0, 14.0, 0.0, 0.0, 0.0, 0.0, 0.0, 0.0, 0.0, 0.0, nan, 0.0, 0.0, 15.0, 0.0, 0.0, 0.0, 0.0, 18.0, 0.0, 17.0, 0.0, 0.0, 0.0, 0.0, 18.0, 0.0, 0.0, 19.0, 20.0, 0.0, 0.0, 0.0, 0.0, 0.0, 0.0, 15.0, 0.0, 0.0, 0.0, 0.0, 0.0, 0.0, 0.0, 0.0, 0.0, 24.0, 0.0, 0.0, 0.0, 0.0, 0.0, 0.0, 0.0, 20.0, 0.0, 0.0, 0.0, 0.0, 0.0, 0.0, 0.0, 0.0, 0.0, 0.0, 0.0, 0.0, 0.0, 20.0, 0.0, 0.0, 0.0, 0.0, 0.0, 0.0, 0.0, 15.0, 0.0, 0.0, 0.0, 0.0, 0.0, 0.0, 0.0, 16.0, 0.0, 19.0, 0.0, 0.0, 0.0, 0.0, 0.0, 23.0, 0.0, 0.0, 0.0, 0.0, 14.0, 0.0, 0.0, 0.0, 0.0, 0.0, 0.0, 0.0, 0.0, 0.0, 18.0, 0.0, 18.0, 0.0, 0.0, 0.0, 0.0, 0.0, 19.0, 0.0, 0.0, 0.0, 0.0, 0.0, 0.0, 0.0, 0.0, 0.0, 0.0, 0.0, 0.0, 0.0, 0.0, 0.0, 17.0, 0.0, 0.0, 0.0, 0.0, 0.0, 0.0, 0.0, 0.0, 0.0, 14.0, 0.0, 0.0, 0.0, 0.0, 0.0, 22.0, 0.0, 0.0, 0.0, 0.0, 0.0, 0.0, 0.0, 0.0, 0.0, 0.0, 0.0, 0.0, 0.0, 16.0, 0.0, 0.0, 0.0, 0.0, 17.0, 0.0, 0.0, 0.0, 0.0, 0.0, 0.0, 0.0, 0.0, 14.0, 0.0, 0.0, 0.0, 0.0, 22.0, 0.0, 0.0, 0.0, 0.0, 0.0, 0.0, 0.0, 0.0, 0.0, 0.0, 0.0, 0.0, 0.0, 15.0, 0.0, 0.0, 0.0, 0.0, 0.0, 0.0, 0.0, 0.0, 0.0, 0.0, 0.0, 0.0, 0.0, 0.0, 17.0, 0.0, 0.0, 0.0, 0.0, 0.0, 0.0, 0.0, 0.0, 0.0, 0.0, 0.0, 0.0, 0.0, 0.0, 0.0, 0.0, 20.0, 0.0, 0.0, 0.0, 0.0, 0.0, 12.0, 0.0, 0.0, 0.0, 0.0, 0.0, 0.0, 0.0, 16.0, 0.0, 0.0, 15.0, 0.0, 0.0, 0.0, 0.0, 0.0, 0.0, 0.0, 0.0, 15.0, 0.0, 22.0, 0.0, 0.0, 0.0, 0.0, 15.0, 0.0, 0.0, 0.0, 0.0, 0.0, 0.0, 0.0, 0.0, 0.0, 0.0, 0.0, 16.0, 0.0, 0.0, 16.0, 0.0, 0.0, 0.0, 0.0, 22.0, 16.0, 0.0, 0.0, 0.0, 0.0, 16.0, 16.0, 0.0, 0.0, 0.0, 0.0, 0.0, 0.0, 0.0, 16.0, 0.0, 14.0, 0.0, 0.0, 0.0, 0.0, 18.0, 0.0, 16.0, 21.0, 0.0, 0.0, 0.0, 0.0, 0.0, 0.0, 0.0, 0.0, 0.0, 0.0, 0.0, 0.0, 17.0, 0.0, 0.0, 0.0, 0.0, 0.0, 0.0, 0.0, 0.0, 0.0, 0.0]\n"
          ]
        }
      ]
    },
    {
      "cell_type": "code",
      "source": [
        "\n",
        "\n",
        "soma_x_y = sum(i if not np.isnan(i) else 0 for i in x_vezes_y)\n",
        "print(soma_x_y)"
      ],
      "metadata": {
        "id": "nzcGigOqLyug",
        "outputId": "f88bf600-d2eb-4e1c-9873-43e8540878b0",
        "colab": {
          "base_uri": "https://localhost:8080/"
        }
      },
      "execution_count": null,
      "outputs": [
        {
          "output_type": "stream",
          "name": "stdout",
          "text": [
            "4537.0\n"
          ]
        }
      ]
    },
    {
      "cell_type": "code",
      "source": [
        "soma_x =sum(i if not np.isnan(i) else 0 for i in x)\n",
        "print(soma_x)"
      ],
      "metadata": {
        "id": "y0_LAFjgKFwj",
        "outputId": "e79f5bec-8ec9-493e-e201-574f79bf2ea4",
        "colab": {
          "base_uri": "https://localhost:8080/"
        }
      },
      "execution_count": null,
      "outputs": [
        {
          "output_type": "stream",
          "name": "stdout",
          "text": [
            "23805.0\n"
          ]
        }
      ]
    },
    {
      "cell_type": "code",
      "source": [
        "soma_y =sum(i if not np.isnan(i) else 0 for i in new_y)\n",
        "print(soma_y)"
      ],
      "metadata": {
        "id": "3MJEBtjhMyZD",
        "outputId": "9c964033-26df-4cd1-b31d-f75cc2d273f3",
        "colab": {
          "base_uri": "https://localhost:8080/"
        }
      },
      "execution_count": null,
      "outputs": [
        {
          "output_type": "stream",
          "name": "stdout",
          "text": [
            "267\n"
          ]
        }
      ]
    },
    {
      "cell_type": "code",
      "source": [
        "mult_soma_x_y = soma_x*soma_y\n",
        "print(mult_soma_x_y)"
      ],
      "metadata": {
        "id": "-YBCRO-0N1kW",
        "outputId": "5c0ad4bf-47cc-480b-cc08-45a51427fc66",
        "colab": {
          "base_uri": "https://localhost:8080/"
        }
      },
      "execution_count": null,
      "outputs": [
        {
          "output_type": "stream",
          "name": "stdout",
          "text": [
            "6355935.0\n"
          ]
        }
      ]
    },
    {
      "cell_type": "code",
      "source": [
        "n = len(df)\n",
        "print(n)"
      ],
      "metadata": {
        "id": "vzuqBzMgNrcG",
        "outputId": "2a4fc1da-ecf6-42dc-cdbb-e233b06aadff",
        "colab": {
          "base_uri": "https://localhost:8080/"
        }
      },
      "execution_count": null,
      "outputs": [
        {
          "output_type": "stream",
          "name": "stdout",
          "text": [
            "1423\n"
          ]
        }
      ]
    },
    {
      "cell_type": "code",
      "source": [
        "numerador = soma_x_y -(mult_soma_x_y/n)\n",
        "print(numerador)"
      ],
      "metadata": {
        "id": "dfNmbQoOOJj2",
        "outputId": "005ad335-e72c-4aff-ea25-ac001df1e23f",
        "colab": {
          "base_uri": "https://localhost:8080/"
        }
      },
      "execution_count": null,
      "outputs": [
        {
          "output_type": "stream",
          "name": "stdout",
          "text": [
            "70.42586085734365\n"
          ]
        }
      ]
    },
    {
      "cell_type": "code",
      "source": [
        "soma_x_quadrado =sum(i**2 if not np.isnan(i) else 0 for i in x)\n",
        "print(soma_x_quadrado)"
      ],
      "metadata": {
        "id": "jlYxuL9xP5Xu",
        "outputId": "9d0e42e2-1ad8-4df1-de78-313dc62ca44c",
        "colab": {
          "base_uri": "https://localhost:8080/"
        }
      },
      "execution_count": null,
      "outputs": [
        {
          "output_type": "stream",
          "name": "stdout",
          "text": [
            "418649.0\n"
          ]
        }
      ]
    },
    {
      "cell_type": "code",
      "source": [
        "soma_x_elevado_quadrado=sum(i if not np.isnan(i) else 0 for i in x)\n",
        "soma_x_elevado_quadrado = soma_x_elevado_quadrado **2\n",
        "print(soma_x_elevado_quadrado)"
      ],
      "metadata": {
        "id": "Tl4zRBMgQLf5",
        "outputId": "25ab6f6a-9869-437d-faa8-18438502c170",
        "colab": {
          "base_uri": "https://localhost:8080/"
        }
      },
      "execution_count": null,
      "outputs": [
        {
          "output_type": "stream",
          "name": "stdout",
          "text": [
            "566678025.0\n"
          ]
        }
      ]
    },
    {
      "cell_type": "code",
      "source": [
        "soma_y_quadrado =sum(i**2 if not np.isnan(i) else 0 for i in new_y)\n",
        "print(soma_y_quadrado)"
      ],
      "metadata": {
        "id": "8OKgfb3NdFp-",
        "outputId": "04bc2589-dfb6-454c-cae1-df86d3600b2b",
        "colab": {
          "base_uri": "https://localhost:8080/"
        }
      },
      "execution_count": null,
      "outputs": [
        {
          "output_type": "stream",
          "name": "stdout",
          "text": [
            "267\n"
          ]
        }
      ]
    },
    {
      "cell_type": "code",
      "source": [
        "soma_y_elevado_quadrado=sum(i if not np.isnan(i) else 0 for i in new_y)\n",
        "soma_y_elevado_quadrado = soma_y_elevado_quadrado **2\n",
        "print(soma_y_elevado_quadrado)"
      ],
      "metadata": {
        "id": "zFNa_OQsddtx",
        "outputId": "2e9c6708-b6b0-4e73-bf52-5dd725939552",
        "colab": {
          "base_uri": "https://localhost:8080/"
        }
      },
      "execution_count": null,
      "outputs": [
        {
          "output_type": "stream",
          "name": "stdout",
          "text": [
            "71289\n"
          ]
        }
      ]
    },
    {
      "cell_type": "code",
      "source": [
        "denominador =(soma_x_quadrado * (soma_x_elevado_quadrado/n)) -(soma_y_quadrado - (soma_y_elevado_quadrado/n))"
      ],
      "metadata": {
        "id": "x1kkDc0QdprZ"
      },
      "execution_count": null,
      "outputs": []
    },
    {
      "cell_type": "code",
      "source": [
        "print(denominador)"
      ],
      "metadata": {
        "id": "nfMBO_s3eVfU",
        "outputId": "31df38c0-8fc6-427f-e601-5eb99eee0581",
        "colab": {
          "base_uri": "https://localhost:8080/"
        }
      },
      "execution_count": null,
      "outputs": [
        {
          "output_type": "stream",
          "name": "stdout",
          "text": [
            "166717630484.591\n"
          ]
        }
      ]
    },
    {
      "cell_type": "code",
      "source": [
        "from math import sqrt"
      ],
      "metadata": {
        "id": "fSgiay2weZjO"
      },
      "execution_count": null,
      "outputs": []
    },
    {
      "cell_type": "code",
      "source": [
        "raiz_denominador = sqrt(denominador)\n",
        "print(raiz_denominador)"
      ],
      "metadata": {
        "id": "41k6wcMYeeWA",
        "outputId": "db4aca88-3af8-4523-d708-0fc71c5b853b",
        "colab": {
          "base_uri": "https://localhost:8080/"
        }
      },
      "execution_count": null,
      "outputs": [
        {
          "output_type": "stream",
          "name": "stdout",
          "text": [
            "408310.70336765726\n"
          ]
        }
      ]
    },
    {
      "cell_type": "code",
      "source": [
        "coeficiente_pearson = numerador/raiz_denominador\n",
        "coeficiente_pearson = round(coeficiente_pearson, 7)\n",
        "print(coeficiente_pearson)"
      ],
      "metadata": {
        "id": "Pd2QHxmZevBx",
        "outputId": "34727df0-d4d8-44b0-d1cd-4b9343057989",
        "colab": {
          "base_uri": "https://localhost:8080/"
        }
      },
      "execution_count": null,
      "outputs": [
        {
          "output_type": "stream",
          "name": "stdout",
          "text": [
            "0.0001725\n"
          ]
        }
      ]
    },
    {
      "cell_type": "code",
      "source": [
        "plt.scatter(age, new_y)"
      ],
      "metadata": {
        "id": "plz4bPb_fWSX",
        "outputId": "4cc1923c-d931-461b-882e-6757435ec057",
        "colab": {
          "base_uri": "https://localhost:8080/",
          "height": 301
        }
      },
      "execution_count": null,
      "outputs": [
        {
          "output_type": "execute_result",
          "data": {
            "text/plain": [
              "<matplotlib.collections.PathCollection at 0x7e5221566fb0>"
            ]
          },
          "metadata": {},
          "execution_count": 56
        },
        {
          "output_type": "display_data",
          "data": {
            "text/plain": [
              "<Figure size 640x480 with 1 Axes>"
            ],
            "image/png": "[encoded data removed]"
          },
          "metadata": {}
        }
      ]
    },
    {
      "cell_type": "code",
      "source": [
        "teste_f = (coeficiente_pearson**2) * (n-2) /1-(coeficiente_pearson**2)\n",
        "print(teste_f)"
      ],
      "metadata": {
        "id": "9yWDqyI2gmmp",
        "outputId": "b70cd6d0-0abe-4825-98bf-d536a86a0725",
        "colab": {
          "base_uri": "https://localhost:8080/"
        }
      },
      "execution_count": null,
      "outputs": [
        {
          "output_type": "stream",
          "name": "stdout",
          "text": [
            "4.225387499999999e-05\n"
          ]
        }
      ]
    },
    {
      "cell_type": "markdown",
      "source": [
        "Não há relação entre contas piratas e idade dos jogadores, hipótese nula aceita"
      ],
      "metadata": {
        "id": "gArvxT4IninQ"
      }
    },
    {
      "cell_type": "code",
      "source": [
        "client = df['client']\n",
        "print(client)"
      ],
      "metadata": {
        "id": "jGvoZKplnuRA",
        "outputId": "558eb947-ea1e-4cfa-a305-fcd7d0ef0c2b",
        "colab": {
          "base_uri": "https://localhost:8080/"
        }
      },
      "execution_count": 68,
      "outputs": [
        {
          "output_type": "stream",
          "name": "stdout",
          "text": [
            "0        Computer ( Java Edition )\n",
            "1        Computer ( Java Edition )\n",
            "2        Computer ( Java Edition )\n",
            "3        Computer ( Java Edition )\n",
            "4       Mobile ( bedrock version )\n",
            "                   ...            \n",
            "1418     Computer ( Java Edition )\n",
            "1419     Computer ( Java Edition )\n",
            "1420     Computer ( Java Edition )\n",
            "1421     Computer ( Java Edition )\n",
            "1422     Computer ( Java Edition )\n",
            "Name: client, Length: 1423, dtype: object\n"
          ]
        }
      ]
    },
    {
      "cell_type": "code",
      "source": [
        "plt.hist(client, bins=5)"
      ],
      "metadata": {
        "id": "D3-cJPnNoT-E",
        "outputId": "8c891617-4bc5-4ac1-bdcc-efc077a816eb",
        "colab": {
          "base_uri": "https://localhost:8080/"
        }
      },
      "execution_count": 71,
      "outputs": [
        {
          "output_type": "execute_result",
          "data": {
            "text/plain": [
              "(array([1159.,    0.,    0.,    0.,  264.]),\n",
              " array([0. , 0.2, 0.4, 0.6, 0.8, 1. ]),\n",
              " <BarContainer object of 5 artists>)"
            ]
          },
          "metadata": {},
          "execution_count": 71
        },
        {
          "output_type": "display_data",
          "data": {
            "text/plain": [
              "<Figure size 640x480 with 1 Axes>"
            ],
            "image/png": "[encoded data removed]"
          },
          "metadata": {}
        }
      ]
    },
    {
      "cell_type": "code",
      "source": [
        "from collections import Counter\n",
        "qtd_versao_paga_mobile = Counter(version)\n",
        "print(qtd_versao_paga_mobile)\n",
        "qtd_client= Counter(client)\n",
        "print(qtd_client)"
      ],
      "metadata": {
        "id": "JhUop8hUpJ39",
        "outputId": "5547d45a-81a1-467a-e685-620dcc8bfe27",
        "colab": {
          "base_uri": "https://localhost:8080/"
        }
      },
      "execution_count": 86,
      "outputs": [
        {
          "output_type": "stream",
          "name": "stdout",
          "text": [
            "Counter({'Cracked': 1156, 'Paid Version': 267})\n",
            "Counter({'Computer ( Java Edition )': 1159, 'Mobile ( bedrock version )': 264})\n"
          ]
        }
      ]
    },
    {
      "cell_type": "code",
      "source": [],
      "metadata": {
        "id": "97uJNc3Nrb5u"
      },
      "execution_count": null,
      "outputs": []
    }
  ]
}