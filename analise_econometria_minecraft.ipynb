{
  "nbformat": 4,
  "nbformat_minor": 0,
  "metadata": {
    "colab": {
      "provenance": [],
      "authorship_tag": "ABX9TyOm05Thbw4sCEz+6otj3D0r",
      "include_colab_link": true
    },
    "kernelspec": {
      "name": "python3",
      "display_name": "Python 3"
    },
    "language_info": {
      "name": "python"
    }
  },
  "cells": [
    {
      "cell_type": "markdown",
      "metadata": {
        "id": "view-in-github",
        "colab_type": "text"
      },
      "source": [
        "<a href=\"https://colab.research.google.com/github/jeniferGoncalvesDaSilvaDev/Econometria-aulas/blob/main/analise_econometria_minecraft.ipynb\" target=\"_parent\"><img src=\"https://colab.research.google.com/assets/colab-badge.svg\" alt=\"Open In Colab\"/></a>"
      ]
    },
    {
      "cell_type": "code",
      "execution_count": 1,
      "metadata": {
        "id": "gcmMP3BT_fk8"
      },
      "outputs": [],
      "source": [
        "import pandas as pd"
      ]
    },
    {
      "cell_type": "code",
      "source": [
        "df = pd.read_csv(\"/content/drive/MyDrive/Econometria /piracydataset.csv\")"
      ],
      "metadata": {
        "id": "U7us_5PSBvoo"
      },
      "execution_count": 2,
      "outputs": []
    },
    {
      "cell_type": "code",
      "source": [
        "print(df.head(4))"
      ],
      "metadata": {
        "colab": {
          "base_uri": "https://localhost:8080/"
        },
        "id": "CpwzKvnPB8Lt",
        "outputId": "83fb9a31-3780-410e-8eca-295c47fe54c7"
      },
      "execution_count": 3,
      "outputs": [
        {
          "output_type": "stream",
          "name": "stdout",
          "text": [
            "   Unnamed: 0   age         discordid      minecraftid  \\\n",
            "0           0  14.0  ProGamer300#3331     ProGamer300    \n",
            "1           1  19.0       @shrey#4934      shrey_jain_   \n",
            "2           2  18.0   Skullfaced#8657  Skullfaceddeath   \n",
            "3           3  17.0  Op DzGhOsT#8719      DzGHoST1737    \n",
            "\n",
            "                      client       version  \n",
            "0  Computer ( Java Edition )       Cracked  \n",
            "1  Computer ( Java Edition )       Cracked  \n",
            "2  Computer ( Java Edition )  Paid Version  \n",
            "3  Computer ( Java Edition )       Cracked  \n"
          ]
        }
      ]
    },
    {
      "cell_type": "code",
      "source": [
        "df.columns"
      ],
      "metadata": {
        "colab": {
          "base_uri": "https://localhost:8080/"
        },
        "id": "d5-eKVKoCprr",
        "outputId": "5bf3103b-93a5-4a52-916e-876f3da9079a"
      },
      "execution_count": 4,
      "outputs": [
        {
          "output_type": "execute_result",
          "data": {
            "text/plain": [
              "Index(['Unnamed: 0', 'age', 'discordid', 'minecraftid', 'client', 'version'], dtype='object')"
            ]
          },
          "metadata": {},
          "execution_count": 4
        }
      ]
    },
    {
      "cell_type": "code",
      "source": [
        "print(df.isnull().sum())"
      ],
      "metadata": {
        "colab": {
          "base_uri": "https://localhost:8080/"
        },
        "id": "RNQxUgh3CxRw",
        "outputId": "3d4c2c97-92aa-41e5-d32d-bf35ba3f92d1"
      },
      "execution_count": 5,
      "outputs": [
        {
          "output_type": "stream",
          "name": "stdout",
          "text": [
            "Unnamed: 0     0\n",
            "age            1\n",
            "discordid      0\n",
            "minecraftid    0\n",
            "client         0\n",
            "version        0\n",
            "dtype: int64\n"
          ]
        }
      ]
    },
    {
      "cell_type": "code",
      "source": [],
      "metadata": {
        "id": "0UfYSXLODF5c"
      },
      "execution_count": null,
      "outputs": []
    }
  ]
}