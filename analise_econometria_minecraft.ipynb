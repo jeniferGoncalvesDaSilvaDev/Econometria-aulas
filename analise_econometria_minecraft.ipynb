{
  "nbformat": 4,
  "nbformat_minor": 0,
  "metadata": {
    "colab": {
      "provenance": [],
      "mount_file_id": "https://github.com/jeniferGoncalvesDaSilvaDev/Econometria-aulas/blob/main/analise_econometria_minecraft.ipynb",
      "authorship_tag": "ABX9TyO7qiBDudUsHAB1ybuvIxFK",
      "include_colab_link": true
    },
    "kernelspec": {
      "name": "python3",
      "display_name": "Python 3"
    },
    "language_info": {
      "name": "python"
    }
  },
  "cells": [
    {
      "cell_type": "markdown",
      "metadata": {
        "id": "view-in-github",
        "colab_type": "text"
      },
      "source": [
        "<a href=\"https://colab.research.google.com/github/jeniferGoncalvesDaSilvaDev/Econometria-aulas/blob/main/analise_econometria_minecraft.ipynb\" target=\"_parent\"><img src=\"https://colab.research.google.com/assets/colab-badge.svg\" alt=\"Open In Colab\"/></a>"
      ]
    },
    {
      "cell_type": "code",
      "execution_count": 1,
      "metadata": {
        "id": "gcmMP3BT_fk8"
      },
      "outputs": [],
      "source": [
        "import pandas as pd\n",
        "import matplotlib.pyplot as plt"
      ]
    },
    {
      "cell_type": "code",
      "source": [
        "df = pd.read_csv(\"/content/drive/MyDrive/Econometria /piracydataset.csv\")"
      ],
      "metadata": {
        "id": "U7us_5PSBvoo"
      },
      "execution_count": 2,
      "outputs": []
    },
    {
      "cell_type": "code",
      "source": [
        "print(df.head(4))"
      ],
      "metadata": {
        "colab": {
          "base_uri": "https://localhost:8080/"
        },
        "id": "CpwzKvnPB8Lt",
        "outputId": "042ae106-dc02-4fe2-abaf-59f0ad86412f"
      },
      "execution_count": 3,
      "outputs": [
        {
          "output_type": "stream",
          "name": "stdout",
          "text": [
            "   Unnamed: 0   age         discordid      minecraftid  \\\n",
            "0           0  14.0  ProGamer300#3331     ProGamer300    \n",
            "1           1  19.0       @shrey#4934      shrey_jain_   \n",
            "2           2  18.0   Skullfaced#8657  Skullfaceddeath   \n",
            "3           3  17.0  Op DzGhOsT#8719      DzGHoST1737    \n",
            "\n",
            "                      client       version  \n",
            "0  Computer ( Java Edition )       Cracked  \n",
            "1  Computer ( Java Edition )       Cracked  \n",
            "2  Computer ( Java Edition )  Paid Version  \n",
            "3  Computer ( Java Edition )       Cracked  \n"
          ]
        }
      ]
    },
    {
      "cell_type": "code",
      "source": [
        "df.columns"
      ],
      "metadata": {
        "colab": {
          "base_uri": "https://localhost:8080/"
        },
        "id": "d5-eKVKoCprr",
        "outputId": "70240a2f-dd88-4bd3-9d91-912d92f74f5d"
      },
      "execution_count": 4,
      "outputs": [
        {
          "output_type": "execute_result",
          "data": {
            "text/plain": [
              "Index(['Unnamed: 0', 'age', 'discordid', 'minecraftid', 'client', 'version'], dtype='object')"
            ]
          },
          "metadata": {},
          "execution_count": 4
        }
      ]
    },
    {
      "cell_type": "code",
      "source": [
        "print(df.isnull().sum())"
      ],
      "metadata": {
        "colab": {
          "base_uri": "https://localhost:8080/"
        },
        "id": "RNQxUgh3CxRw",
        "outputId": "ee42788a-5f17-4915-9a4a-39a40e8544eb"
      },
      "execution_count": 5,
      "outputs": [
        {
          "output_type": "stream",
          "name": "stdout",
          "text": [
            "Unnamed: 0     0\n",
            "age            1\n",
            "discordid      0\n",
            "minecraftid    0\n",
            "client         0\n",
            "version        0\n",
            "dtype: int64\n"
          ]
        }
      ]
    },
    {
      "cell_type": "code",
      "source": [
        "age = df['age']\n",
        "print(age)"
      ],
      "metadata": {
        "id": "0UfYSXLODF5c",
        "outputId": "579276ed-ec10-47d7-b948-9338614a998f",
        "colab": {
          "base_uri": "https://localhost:8080/"
        }
      },
      "execution_count": 4,
      "outputs": [
        {
          "output_type": "stream",
          "name": "stdout",
          "text": [
            "0       14.0\n",
            "1       19.0\n",
            "2       18.0\n",
            "3       17.0\n",
            "4       15.0\n",
            "        ... \n",
            "1418    17.0\n",
            "1419    15.0\n",
            "1420    17.0\n",
            "1421    15.0\n",
            "1422    14.0\n",
            "Name: age, Length: 1423, dtype: float64\n"
          ]
        }
      ]
    },
    {
      "cell_type": "code",
      "source": [
        "plt.hist(age, bins=6)"
      ],
      "metadata": {
        "id": "rDwa66weECEM",
        "outputId": "e1e0096f-c304-4b02-fdb8-0303de320b2f",
        "colab": {
          "base_uri": "https://localhost:8080/",
          "height": 328
        }
      },
      "execution_count": 10,
      "outputs": [
        {
          "output_type": "execute_result",
          "data": {
            "text/plain": [
              "(array([  27.,  201., 1070.,  114.,    4.,    6.]),\n",
              " array([ 1.,  8., 15., 22., 29., 36., 43.]),\n",
              " <BarContainer object of 6 artists>)"
            ]
          },
          "metadata": {},
          "execution_count": 10
        },
        {
          "output_type": "display_data",
          "data": {
            "text/plain": [
              "<Figure size 640x480 with 1 Axes>"
            ],
            "image/png": "[encoded data removed]"
          },
          "metadata": {}
        }
      ]
    },
    {
      "cell_type": "code",
      "source": [
        "version = df['version']\n",
        "print(version)"
      ],
      "metadata": {
        "id": "XTiy_8tIEfUV",
        "outputId": "84f58216-a147-4310-9ac6-809253af5c28",
        "colab": {
          "base_uri": "https://localhost:8080/"
        }
      },
      "execution_count": 5,
      "outputs": [
        {
          "output_type": "stream",
          "name": "stdout",
          "text": [
            "0            Cracked\n",
            "1            Cracked\n",
            "2       Paid Version\n",
            "3            Cracked\n",
            "4       Paid Version\n",
            "            ...     \n",
            "1418         Cracked\n",
            "1419         Cracked\n",
            "1420         Cracked\n",
            "1421         Cracked\n",
            "1422         Cracked\n",
            "Name: version, Length: 1423, dtype: object\n"
          ]
        }
      ]
    },
    {
      "cell_type": "code",
      "source": [
        "plt.hist(version, bins=2)"
      ],
      "metadata": {
        "id": "Qirwwzt2EqIl",
        "outputId": "cbab599f-0ffb-4cd8-e875-13730c90aa45",
        "colab": {
          "base_uri": "https://localhost:8080/"
        }
      },
      "execution_count": 10,
      "outputs": [
        {
          "output_type": "execute_result",
          "data": {
            "text/plain": [
              "(array([1156.,  267.]),\n",
              " array([0. , 0.5, 1. ]),\n",
              " <BarContainer object of 2 artists>)"
            ]
          },
          "metadata": {},
          "execution_count": 10
        },
        {
          "output_type": "display_data",
          "data": {
            "text/plain": [
              "<Figure size 640x480 with 1 Axes>"
            ],
            "image/png": "[encoded data removed]"
          },
          "metadata": {}
        }
      ]
    },
    {
      "cell_type": "code",
      "source": [
        "x = age.tolist()\n",
        "y = version.tolist()"
      ],
      "metadata": {
        "id": "xPuOf5sFFcol"
      },
      "execution_count": 13,
      "outputs": []
    },
    {
      "cell_type": "code",
      "source": [
        "print(y)"
      ],
      "metadata": {
        "id": "Z_Vy4JiPFti2",
        "outputId": "a4a7880b-3fab-4bba-bb5a-78640ac9cc49",
        "colab": {
          "base_uri": "https://localhost:8080/"
        }
      },
      "execution_count": 15,
      "outputs": [
        {
          "output_type": "stream",
          "name": "stdout",
          "text": [
            "['Cracked', 'Cracked', 'Paid Version', 'Cracked', 'Paid Version', 'Cracked', 'Cracked', 'Cracked', 'Paid Version', 'Cracked', 'Paid Version', 'Cracked', 'Cracked', 'Cracked', 'Cracked', 'Paid Version', 'Cracked', 'Paid Version', 'Cracked', 'Cracked', 'Paid Version', 'Cracked', 'Cracked', 'Paid Version', 'Cracked', 'Cracked', 'Cracked', 'Cracked', 'Paid Version', 'Paid Version', 'Paid Version', 'Cracked', 'Paid Version', 'Paid Version', 'Paid Version', 'Cracked', 'Cracked', 'Cracked', 'Cracked', 'Cracked', 'Cracked', 'Cracked', 'Cracked', 'Cracked', 'Paid Version', 'Paid Version', 'Cracked', 'Cracked', 'Cracked', 'Cracked', 'Cracked', 'Cracked', 'Cracked', 'Paid Version', 'Paid Version', 'Cracked', 'Cracked', 'Cracked', 'Cracked', 'Paid Version', 'Cracked', 'Cracked', 'Cracked', 'Cracked', 'Cracked', 'Cracked', 'Cracked', 'Cracked', 'Cracked', 'Cracked', 'Paid Version', 'Cracked', 'Cracked', 'Cracked', 'Paid Version', 'Paid Version', 'Cracked', 'Cracked', 'Cracked', 'Paid Version', 'Cracked', 'Paid Version', 'Cracked', 'Paid Version', 'Cracked', 'Cracked', 'Paid Version', 'Cracked', 'Cracked', 'Cracked', 'Cracked', 'Cracked', 'Cracked', 'Cracked', 'Cracked', 'Cracked', 'Paid Version', 'Cracked', 'Cracked', 'Cracked', 'Cracked', 'Cracked', 'Cracked', 'Cracked', 'Cracked', 'Cracked', 'Cracked', 'Cracked', 'Cracked', 'Cracked', 'Cracked', 'Cracked', 'Cracked', 'Paid Version', 'Cracked', 'Cracked', 'Cracked', 'Cracked', 'Cracked', 'Cracked', 'Cracked', 'Cracked', 'Cracked', 'Cracked', 'Cracked', 'Cracked', 'Paid Version', 'Cracked', 'Paid Version', 'Cracked', 'Paid Version', 'Cracked', 'Cracked', 'Cracked', 'Cracked', 'Cracked', 'Cracked', 'Paid Version', 'Cracked', 'Cracked', 'Paid Version', 'Cracked', 'Cracked', 'Paid Version', 'Cracked', 'Cracked', 'Cracked', 'Cracked', 'Cracked', 'Cracked', 'Paid Version', 'Cracked', 'Cracked', 'Cracked', 'Cracked', 'Cracked', 'Cracked', 'Paid Version', 'Cracked', 'Paid Version', 'Cracked', 'Cracked', 'Cracked', 'Paid Version', 'Cracked', 'Cracked', 'Paid Version', 'Cracked', 'Cracked', 'Cracked', 'Cracked', 'Cracked', 'Paid Version', 'Cracked', 'Cracked', 'Cracked', 'Cracked', 'Cracked', 'Cracked', 'Cracked', 'Cracked', 'Paid Version', 'Cracked', 'Paid Version', 'Cracked', 'Paid Version', 'Cracked', 'Cracked', 'Cracked', 'Cracked', 'Cracked', 'Paid Version', 'Cracked', 'Cracked', 'Cracked', 'Cracked', 'Paid Version', 'Cracked', 'Cracked', 'Cracked', 'Cracked', 'Cracked', 'Cracked', 'Cracked', 'Cracked', 'Cracked', 'Paid Version', 'Cracked', 'Cracked', 'Cracked', 'Cracked', 'Cracked', 'Cracked', 'Cracked', 'Paid Version', 'Cracked', 'Cracked', 'Cracked', 'Cracked', 'Cracked', 'Paid Version', 'Cracked', 'Cracked', 'Cracked', 'Cracked', 'Cracked', 'Paid Version', 'Cracked', 'Cracked', 'Cracked', 'Cracked', 'Cracked', 'Cracked', 'Paid Version', 'Cracked', 'Cracked', 'Cracked', 'Cracked', 'Cracked', 'Paid Version', 'Cracked', 'Cracked', 'Cracked', 'Cracked', 'Cracked', 'Cracked', 'Cracked', 'Cracked', 'Cracked', 'Cracked', 'Cracked', 'Cracked', 'Cracked', 'Cracked', 'Cracked', 'Paid Version', 'Cracked', 'Cracked', 'Cracked', 'Paid Version', 'Paid Version', 'Cracked', 'Cracked', 'Paid Version', 'Paid Version', 'Paid Version', 'Cracked', 'Cracked', 'Cracked', 'Cracked', 'Cracked', 'Cracked', 'Paid Version', 'Cracked', 'Cracked', 'Cracked', 'Paid Version', 'Paid Version', 'Cracked', 'Cracked', 'Cracked', 'Cracked', 'Cracked', 'Cracked', 'Paid Version', 'Cracked', 'Cracked', 'Paid Version', 'Paid Version', 'Cracked', 'Paid Version', 'Cracked', 'Cracked', 'Paid Version', 'Cracked', 'Paid Version', 'Cracked', 'Cracked', 'Cracked', 'Cracked', 'Cracked', 'Cracked', 'Cracked', 'Cracked', 'Cracked', 'Cracked', 'Cracked', 'Cracked', 'Cracked', 'Cracked', 'Cracked', 'Paid Version', 'Cracked', 'Cracked', 'Cracked', 'Cracked', 'Cracked', 'Cracked', 'Cracked', 'Cracked', 'Paid Version', 'Cracked', 'Cracked', 'Cracked', 'Cracked', 'Cracked', 'Cracked', 'Paid Version', 'Cracked', 'Cracked', 'Cracked', 'Cracked', 'Cracked', 'Cracked', 'Cracked', 'Cracked', 'Cracked', 'Cracked', 'Cracked', 'Cracked', 'Cracked', 'Cracked', 'Cracked', 'Cracked', 'Cracked', 'Cracked', 'Cracked', 'Cracked', 'Cracked', 'Cracked', 'Cracked', 'Paid Version', 'Paid Version', 'Cracked', 'Cracked', 'Paid Version', 'Cracked', 'Cracked', 'Cracked', 'Cracked', 'Cracked', 'Paid Version', 'Cracked', 'Cracked', 'Paid Version', 'Cracked', 'Cracked', 'Paid Version', 'Cracked', 'Cracked', 'Cracked', 'Cracked', 'Cracked', 'Cracked', 'Cracked', 'Cracked', 'Cracked', 'Paid Version', 'Cracked', 'Cracked', 'Cracked', 'Cracked', 'Paid Version', 'Cracked', 'Paid Version', 'Cracked', 'Paid Version', 'Cracked', 'Cracked', 'Paid Version', 'Cracked', 'Cracked', 'Cracked', 'Cracked', 'Cracked', 'Cracked', 'Cracked', 'Paid Version', 'Cracked', 'Cracked', 'Cracked', 'Cracked', 'Cracked', 'Cracked', 'Cracked', 'Cracked', 'Cracked', 'Cracked', 'Cracked', 'Cracked', 'Cracked', 'Cracked', 'Cracked', 'Cracked', 'Cracked', 'Cracked', 'Paid Version', 'Cracked', 'Cracked', 'Cracked', 'Paid Version', 'Cracked', 'Cracked', 'Cracked', 'Paid Version', 'Cracked', 'Paid Version', 'Cracked', 'Cracked', 'Cracked', 'Cracked', 'Cracked', 'Paid Version', 'Cracked', 'Cracked', 'Cracked', 'Cracked', 'Cracked', 'Cracked', 'Cracked', 'Cracked', 'Paid Version', 'Cracked', 'Cracked', 'Cracked', 'Cracked', 'Cracked', 'Paid Version', 'Cracked', 'Cracked', 'Cracked', 'Cracked', 'Cracked', 'Cracked', 'Cracked', 'Cracked', 'Cracked', 'Cracked', 'Cracked', 'Cracked', 'Cracked', 'Cracked', 'Paid Version', 'Cracked', 'Paid Version', 'Cracked', 'Cracked', 'Cracked', 'Cracked', 'Cracked', 'Cracked', 'Cracked', 'Cracked', 'Cracked', 'Cracked', 'Cracked', 'Cracked', 'Cracked', 'Cracked', 'Cracked', 'Paid Version', 'Cracked', 'Paid Version', 'Paid Version', 'Cracked', 'Paid Version', 'Cracked', 'Cracked', 'Cracked', 'Cracked', 'Cracked', 'Cracked', 'Cracked', 'Cracked', 'Cracked', 'Paid Version', 'Cracked', 'Cracked', 'Cracked', 'Cracked', 'Cracked', 'Cracked', 'Cracked', 'Cracked', 'Cracked', 'Cracked', 'Cracked', 'Cracked', 'Cracked', 'Cracked', 'Cracked', 'Cracked', 'Paid Version', 'Paid Version', 'Cracked', 'Cracked', 'Cracked', 'Paid Version', 'Paid Version', 'Paid Version', 'Paid Version', 'Cracked', 'Cracked', 'Cracked', 'Cracked', 'Cracked', 'Cracked', 'Cracked', 'Cracked', 'Cracked', 'Cracked', 'Cracked', 'Paid Version', 'Cracked', 'Cracked', 'Cracked', 'Paid Version', 'Cracked', 'Cracked', 'Cracked', 'Cracked', 'Paid Version', 'Cracked', 'Paid Version', 'Cracked', 'Cracked', 'Cracked', 'Paid Version', 'Cracked', 'Cracked', 'Paid Version', 'Cracked', 'Cracked', 'Cracked', 'Cracked', 'Cracked', 'Cracked', 'Cracked', 'Cracked', 'Cracked', 'Cracked', 'Cracked', 'Cracked', 'Paid Version', 'Paid Version', 'Cracked', 'Paid Version', 'Cracked', 'Cracked', 'Cracked', 'Cracked', 'Cracked', 'Cracked', 'Paid Version', 'Cracked', 'Cracked', 'Cracked', 'Paid Version', 'Cracked', 'Cracked', 'Cracked', 'Cracked', 'Cracked', 'Paid Version', 'Cracked', 'Cracked', 'Cracked', 'Paid Version', 'Paid Version', 'Cracked', 'Cracked', 'Cracked', 'Cracked', 'Cracked', 'Cracked', 'Paid Version', 'Cracked', 'Paid Version', 'Paid Version', 'Cracked', 'Cracked', 'Cracked', 'Cracked', 'Cracked', 'Cracked', 'Paid Version', 'Cracked', 'Cracked', 'Paid Version', 'Cracked', 'Cracked', 'Cracked', 'Cracked', 'Cracked', 'Cracked', 'Paid Version', 'Paid Version', 'Cracked', 'Cracked', 'Paid Version', 'Cracked', 'Cracked', 'Cracked', 'Cracked', 'Paid Version', 'Cracked', 'Cracked', 'Paid Version', 'Paid Version', 'Paid Version', 'Cracked', 'Paid Version', 'Cracked', 'Cracked', 'Paid Version', 'Cracked', 'Paid Version', 'Cracked', 'Cracked', 'Paid Version', 'Paid Version', 'Cracked', 'Cracked', 'Paid Version', 'Cracked', 'Cracked', 'Paid Version', 'Cracked', 'Cracked', 'Cracked', 'Cracked', 'Cracked', 'Cracked', 'Cracked', 'Paid Version', 'Cracked', 'Cracked', 'Cracked', 'Cracked', 'Cracked', 'Cracked', 'Cracked', 'Cracked', 'Paid Version', 'Paid Version', 'Cracked', 'Cracked', 'Cracked', 'Cracked', 'Cracked', 'Cracked', 'Cracked', 'Cracked', 'Paid Version', 'Cracked', 'Cracked', 'Cracked', 'Cracked', 'Cracked', 'Cracked', 'Cracked', 'Paid Version', 'Cracked', 'Cracked', 'Cracked', 'Cracked', 'Paid Version', 'Cracked', 'Cracked', 'Cracked', 'Cracked', 'Paid Version', 'Cracked', 'Cracked', 'Paid Version', 'Cracked', 'Cracked', 'Cracked', 'Cracked', 'Cracked', 'Paid Version', 'Paid Version', 'Cracked', 'Cracked', 'Cracked', 'Cracked', 'Cracked', 'Cracked', 'Cracked', 'Cracked', 'Cracked', 'Paid Version', 'Paid Version', 'Cracked', 'Cracked', 'Cracked', 'Paid Version', 'Cracked', 'Cracked', 'Paid Version', 'Cracked', 'Cracked', 'Cracked', 'Cracked', 'Cracked', 'Paid Version', 'Cracked', 'Cracked', 'Cracked', 'Paid Version', 'Cracked', 'Cracked', 'Cracked', 'Cracked', 'Paid Version', 'Cracked', 'Cracked', 'Paid Version', 'Paid Version', 'Cracked', 'Cracked', 'Cracked', 'Cracked', 'Cracked', 'Cracked', 'Cracked', 'Cracked', 'Cracked', 'Cracked', 'Cracked', 'Cracked', 'Paid Version', 'Cracked', 'Paid Version', 'Cracked', 'Paid Version', 'Cracked', 'Paid Version', 'Paid Version', 'Cracked', 'Cracked', 'Paid Version', 'Cracked', 'Cracked', 'Cracked', 'Cracked', 'Cracked', 'Cracked', 'Cracked', 'Cracked', 'Cracked', 'Cracked', 'Cracked', 'Cracked', 'Cracked', 'Paid Version', 'Cracked', 'Cracked', 'Cracked', 'Cracked', 'Cracked', 'Paid Version', 'Cracked', 'Cracked', 'Cracked', 'Cracked', 'Paid Version', 'Cracked', 'Cracked', 'Paid Version', 'Cracked', 'Cracked', 'Cracked', 'Paid Version', 'Cracked', 'Cracked', 'Cracked', 'Cracked', 'Paid Version', 'Cracked', 'Cracked', 'Cracked', 'Cracked', 'Cracked', 'Cracked', 'Cracked', 'Cracked', 'Cracked', 'Cracked', 'Cracked', 'Paid Version', 'Cracked', 'Cracked', 'Cracked', 'Cracked', 'Paid Version', 'Paid Version', 'Cracked', 'Cracked', 'Paid Version', 'Cracked', 'Paid Version', 'Cracked', 'Paid Version', 'Paid Version', 'Cracked', 'Cracked', 'Paid Version', 'Cracked', 'Cracked', 'Paid Version', 'Paid Version', 'Cracked', 'Cracked', 'Cracked', 'Cracked', 'Paid Version', 'Cracked', 'Cracked', 'Cracked', 'Cracked', 'Cracked', 'Cracked', 'Cracked', 'Cracked', 'Cracked', 'Cracked', 'Paid Version', 'Cracked', 'Paid Version', 'Cracked', 'Cracked', 'Cracked', 'Cracked', 'Cracked', 'Cracked', 'Cracked', 'Cracked', 'Cracked', 'Cracked', 'Paid Version', 'Paid Version', 'Cracked', 'Cracked', 'Cracked', 'Cracked', 'Cracked', 'Cracked', 'Cracked', 'Cracked', 'Paid Version', 'Paid Version', 'Paid Version', 'Cracked', 'Cracked', 'Cracked', 'Cracked', 'Cracked', 'Cracked', 'Paid Version', 'Cracked', 'Paid Version', 'Cracked', 'Cracked', 'Cracked', 'Cracked', 'Cracked', 'Cracked', 'Cracked', 'Cracked', 'Cracked', 'Paid Version', 'Cracked', 'Cracked', 'Cracked', 'Cracked', 'Cracked', 'Cracked', 'Cracked', 'Cracked', 'Cracked', 'Cracked', 'Cracked', 'Paid Version', 'Cracked', 'Cracked', 'Cracked', 'Cracked', 'Cracked', 'Cracked', 'Cracked', 'Cracked', 'Cracked', 'Paid Version', 'Cracked', 'Cracked', 'Paid Version', 'Paid Version', 'Paid Version', 'Cracked', 'Cracked', 'Cracked', 'Cracked', 'Cracked', 'Cracked', 'Paid Version', 'Cracked', 'Cracked', 'Cracked', 'Cracked', 'Cracked', 'Cracked', 'Cracked', 'Cracked', 'Cracked', 'Cracked', 'Paid Version', 'Cracked', 'Cracked', 'Paid Version', 'Cracked', 'Cracked', 'Cracked', 'Cracked', 'Cracked', 'Paid Version', 'Cracked', 'Paid Version', 'Cracked', 'Cracked', 'Cracked', 'Cracked', 'Paid Version', 'Cracked', 'Cracked', 'Cracked', 'Cracked', 'Cracked', 'Cracked', 'Paid Version', 'Cracked', 'Cracked', 'Cracked', 'Cracked', 'Cracked', 'Cracked', 'Cracked', 'Paid Version', 'Cracked', 'Cracked', 'Cracked', 'Paid Version', 'Cracked', 'Cracked', 'Cracked', 'Cracked', 'Cracked', 'Paid Version', 'Cracked', 'Cracked', 'Cracked', 'Paid Version', 'Cracked', 'Cracked', 'Cracked', 'Cracked', 'Cracked', 'Cracked', 'Cracked', 'Cracked', 'Cracked', 'Cracked', 'Cracked', 'Cracked', 'Cracked', 'Cracked', 'Cracked', 'Cracked', 'Paid Version', 'Cracked', 'Cracked', 'Cracked', 'Cracked', 'Cracked', 'Cracked', 'Cracked', 'Cracked', 'Cracked', 'Cracked', 'Cracked', 'Cracked', 'Cracked', 'Cracked', 'Paid Version', 'Cracked', 'Paid Version', 'Cracked', 'Cracked', 'Cracked', 'Cracked', 'Paid Version', 'Cracked', 'Paid Version', 'Cracked', 'Cracked', 'Cracked', 'Paid Version', 'Cracked', 'Cracked', 'Cracked', 'Cracked', 'Cracked', 'Cracked', 'Cracked', 'Cracked', 'Cracked', 'Cracked', 'Cracked', 'Cracked', 'Cracked', 'Paid Version', 'Cracked', 'Cracked', 'Cracked', 'Cracked', 'Cracked', 'Cracked', 'Paid Version', 'Cracked', 'Paid Version', 'Cracked', 'Cracked', 'Cracked', 'Cracked', 'Paid Version', 'Cracked', 'Cracked', 'Cracked', 'Paid Version', 'Cracked', 'Cracked', 'Cracked', 'Cracked', 'Paid Version', 'Cracked', 'Cracked', 'Cracked', 'Cracked', 'Cracked', 'Cracked', 'Paid Version', 'Paid Version', 'Cracked', 'Cracked', 'Paid Version', 'Paid Version', 'Cracked', 'Cracked', 'Cracked', 'Cracked', 'Cracked', 'Cracked', 'Cracked', 'Cracked', 'Paid Version', 'Cracked', 'Cracked', 'Cracked', 'Cracked', 'Cracked', 'Cracked', 'Cracked', 'Cracked', 'Cracked', 'Cracked', 'Paid Version', 'Paid Version', 'Cracked', 'Cracked', 'Cracked', 'Cracked', 'Cracked', 'Cracked', 'Cracked', 'Cracked', 'Cracked', 'Cracked', 'Cracked', 'Paid Version', 'Cracked', 'Cracked', 'Cracked', 'Cracked', 'Paid Version', 'Cracked', 'Paid Version', 'Cracked', 'Cracked', 'Cracked', 'Cracked', 'Paid Version', 'Cracked', 'Cracked', 'Paid Version', 'Paid Version', 'Cracked', 'Cracked', 'Cracked', 'Cracked', 'Cracked', 'Cracked', 'Paid Version', 'Cracked', 'Cracked', 'Cracked', 'Cracked', 'Cracked', 'Cracked', 'Cracked', 'Cracked', 'Cracked', 'Paid Version', 'Cracked', 'Cracked', 'Cracked', 'Cracked', 'Cracked', 'Cracked', 'Cracked', 'Paid Version', 'Cracked', 'Cracked', 'Cracked', 'Cracked', 'Cracked', 'Cracked', 'Cracked', 'Cracked', 'Cracked', 'Cracked', 'Cracked', 'Cracked', 'Cracked', 'Paid Version', 'Cracked', 'Cracked', 'Cracked', 'Cracked', 'Cracked', 'Cracked', 'Cracked', 'Paid Version', 'Cracked', 'Cracked', 'Cracked', 'Cracked', 'Cracked', 'Cracked', 'Cracked', 'Paid Version', 'Cracked', 'Paid Version', 'Cracked', 'Cracked', 'Cracked', 'Cracked', 'Cracked', 'Paid Version', 'Cracked', 'Cracked', 'Cracked', 'Cracked', 'Paid Version', 'Cracked', 'Cracked', 'Cracked', 'Cracked', 'Cracked', 'Cracked', 'Cracked', 'Cracked', 'Cracked', 'Paid Version', 'Cracked', 'Paid Version', 'Cracked', 'Cracked', 'Cracked', 'Cracked', 'Cracked', 'Paid Version', 'Cracked', 'Cracked', 'Cracked', 'Cracked', 'Cracked', 'Cracked', 'Cracked', 'Cracked', 'Cracked', 'Cracked', 'Cracked', 'Cracked', 'Cracked', 'Cracked', 'Cracked', 'Paid Version', 'Cracked', 'Cracked', 'Cracked', 'Cracked', 'Cracked', 'Cracked', 'Cracked', 'Cracked', 'Cracked', 'Paid Version', 'Cracked', 'Cracked', 'Cracked', 'Cracked', 'Cracked', 'Paid Version', 'Cracked', 'Cracked', 'Cracked', 'Cracked', 'Cracked', 'Cracked', 'Cracked', 'Cracked', 'Cracked', 'Cracked', 'Cracked', 'Cracked', 'Cracked', 'Paid Version', 'Cracked', 'Cracked', 'Cracked', 'Cracked', 'Paid Version', 'Cracked', 'Cracked', 'Cracked', 'Cracked', 'Cracked', 'Cracked', 'Cracked', 'Cracked', 'Paid Version', 'Cracked', 'Cracked', 'Cracked', 'Cracked', 'Paid Version', 'Cracked', 'Cracked', 'Cracked', 'Cracked', 'Cracked', 'Cracked', 'Cracked', 'Cracked', 'Cracked', 'Cracked', 'Cracked', 'Cracked', 'Cracked', 'Paid Version', 'Cracked', 'Cracked', 'Cracked', 'Cracked', 'Cracked', 'Cracked', 'Cracked', 'Cracked', 'Cracked', 'Cracked', 'Cracked', 'Cracked', 'Cracked', 'Cracked', 'Paid Version', 'Cracked', 'Cracked', 'Cracked', 'Cracked', 'Cracked', 'Cracked', 'Cracked', 'Cracked', 'Cracked', 'Cracked', 'Cracked', 'Cracked', 'Cracked', 'Cracked', 'Cracked', 'Cracked', 'Paid Version', 'Cracked', 'Cracked', 'Cracked', 'Cracked', 'Cracked', 'Paid Version', 'Cracked', 'Cracked', 'Cracked', 'Cracked', 'Cracked', 'Cracked', 'Cracked', 'Paid Version', 'Cracked', 'Cracked', 'Paid Version', 'Cracked', 'Cracked', 'Cracked', 'Cracked', 'Cracked', 'Cracked', 'Cracked', 'Cracked', 'Paid Version', 'Cracked', 'Paid Version', 'Cracked', 'Cracked', 'Cracked', 'Cracked', 'Paid Version', 'Cracked', 'Cracked', 'Cracked', 'Cracked', 'Cracked', 'Cracked', 'Cracked', 'Cracked', 'Cracked', 'Cracked', 'Cracked', 'Paid Version', 'Cracked', 'Cracked', 'Paid Version', 'Cracked', 'Cracked', 'Cracked', 'Cracked', 'Paid Version', 'Paid Version', 'Cracked', 'Cracked', 'Cracked', 'Cracked', 'Paid Version', 'Paid Version', 'Cracked', 'Cracked', 'Cracked', 'Cracked', 'Cracked', 'Cracked', 'Cracked', 'Paid Version', 'Cracked', 'Paid Version', 'Cracked', 'Cracked', 'Cracked', 'Cracked', 'Paid Version', 'Cracked', 'Paid Version', 'Paid Version', 'Cracked', 'Cracked', 'Cracked', 'Cracked', 'Cracked', 'Cracked', 'Cracked', 'Cracked', 'Cracked', 'Cracked', 'Cracked', 'Cracked', 'Paid Version', 'Cracked', 'Cracked', 'Cracked', 'Cracked', 'Cracked', 'Cracked', 'Cracked', 'Cracked', 'Cracked', 'Cracked']\n"
          ]
        }
      ]
    }
  ]
}